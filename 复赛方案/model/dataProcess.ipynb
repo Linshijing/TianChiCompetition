{
 "cells": [
  {
   "cell_type": "code",
   "execution_count": 1,
   "metadata": {
    "collapsed": true
   },
   "outputs": [],
   "source": [
    "import pandas as pd\n",
    "import numpy as np\n",
    "import warnings\n",
    "import matplotlib\n",
    "import matplotlib.pyplot as plt\n",
    "warnings.filterwarnings('ignore')\n",
    "%matplotlib inline\n",
    "import time\n",
    "from sklearn.metrics import calinski_harabaz_score\n",
    "import math\n",
    "from sklearn.cluster import KMeans\n",
    "from sklearn.cluster import DBSCAN\n",
    "from sklearn.externals import joblib\n",
    "#解决中文显示问题\n",
    "plt.rcParams['font.sans-serif'] = ['KaiTi'] # 指定默认字体\n",
    "plt.rcParams['axes.unicode_minus'] = False # 解决保存图像是负号'-'显示为方块的问题"
   ]
  },
  {
   "cell_type": "code",
   "execution_count": 2,
   "metadata": {
    "collapsed": true
   },
   "outputs": [],
   "source": [
    "# 读入历史数据\n",
    "def getDataHistory(data_path,IDlist):\n",
    "    dictData = {}\n",
    "    for ID in IDlist:\n",
    "        data = pd.read_csv(data_path+ID+'/order_history',sep=\"\\t\")\n",
    "        dictData.update({ID:data})\n",
    "\n",
    "    return dictData"
   ]
  },
  {
   "cell_type": "code",
   "execution_count": 3,
   "metadata": {
    "collapsed": true
   },
   "outputs": [],
   "source": [
    "def getShopModel(model_path,IDlist):\n",
    "    cla_dict={} # 商家聚类中心\n",
    "    model_dict={} # 商家聚类模型\n",
    "    for ID in IDlist:\n",
    "        model = joblib.load(model_path+ID+'.pkl')\n",
    "        model_dict.update({ID:model})\n",
    "        df= pd.read_csv(model_path+ID+'zone.txt')\n",
    "        cla_dict.update({ID:df})\n",
    "    zhongxin_df = pd.read_csv(model_path+'zhongxin.txt')\n",
    "    return cla_dict,zhongxin_df,model_dict"
   ]
  },
  {
   "cell_type": "code",
   "execution_count": 4,
   "metadata": {
    "collapsed": true
   },
   "outputs": [],
   "source": [
    "# 传入一个商圈df,生成聚类模型的输入\n",
    "def prosse(data):\n",
    "    data.drop_duplicates(subset=['srclatitude','srclongitude'],inplace=True)\n",
    "    lat= data['srclatitude'].values\n",
    "    lon = data['srclongitude'].values\n",
    "    location = []\n",
    "    for i,j in zip(lat,lon):\n",
    "        location.append([i,j])\n",
    "    location = np.array(location)\n",
    "    return location"
   ]
  },
  {
   "cell_type": "code",
   "execution_count": 5,
   "metadata": {
    "collapsed": true
   },
   "outputs": [],
   "source": [
    "# 商家聚类\n",
    "def JUlie(data,n):\n",
    "    mean = data.mean(axis=0)\n",
    "    kmeans = KMeans(n_clusters =n,random_state=1)\n",
    "    kmeans.fit(data)\n",
    "    list_class=[]\n",
    "    class_mean =[]\n",
    "    #print(kmeans.labels_)\n",
    "    for i in range(n):\n",
    "        classN = data[(kmeans.labels_==i)]\n",
    "        list_class.append(classN)\n",
    "        a = classN.mean(axis=0)\n",
    "        class_mean.append(a)\n",
    "        \n",
    "    #pig = plt.figure(figsize=(12,12))\n",
    "    #color =['red','green','black','blue','orange','purple']\n",
    "    #for i,classn in enumerate(list_class):\n",
    "        #plt.scatter(classn[:,0],classn[:,1],c=color[i])\n",
    "        #plt.scatter(mean[0],mean[1],c='purple')\n",
    "    #score =calinski_harabaz_score(data_,kmeans.labels_)\n",
    "    #print(score)\n",
    "    #plt.show()\n",
    "    #plt.close()\n",
    "    \n",
    "    return class_mean,mean,kmeans"
   ]
  },
  {
   "cell_type": "code",
   "execution_count": 6,
   "metadata": {
    "collapsed": true
   },
   "outputs": [],
   "source": [
    "# 采用 传入 商圈DF列表，和对应的商圈ID列表，以及每个商圈对应要聚成的个数字典\n",
    "def shopJUlie(datalist,IDlist,shopN,modelPath):\n",
    "    list_ID = []\n",
    "    list_lat =[]\n",
    "    list_lon = []\n",
    "    for ID in IDlist:\n",
    "        data = datalist.get(ID)\n",
    "        n = shopN.get(ID)\n",
    "        location = prosse(data)\n",
    "        cla_me,me,model=JUlie(location,n)\n",
    "        joblib.dump(model,modelPath+ID+'.pkl')\n",
    "        dict_class = {}\n",
    "       \n",
    "        list_ID.append(ID)\n",
    "        list_lat.append(me[0])\n",
    "        list_lon.append(me[1])\n",
    "        for i in range(n):\n",
    "            s1 ='zonelat'+str(i)\n",
    "            s2 = 'zonelon'+str(i)\n",
    "            dict_class.update({s1:[cla_me[i][0]],s2:[cla_me[i][1]]})\n",
    "            dfcla = pd.DataFrame(dict_class)\n",
    "            dfcla.to_csv(modelPath+ID+'zone.txt',index=False,encoding='utf-8')\n",
    "        \n",
    "    dict_shangquzhongxin={'商圈':list_ID,'lat':list_lat,'lon':list_lon}\n",
    "    df= pd.DataFrame(dict_shangquzhongxin)\n",
    "    df.to_csv(model_path+'zhongxin.txt',index=False,encoding='utf-8')    "
   ]
  },
  {
   "cell_type": "code",
   "execution_count": 7,
   "metadata": {
    "collapsed": true
   },
   "outputs": [],
   "source": [
    "# 求角度\n",
    "def Ran(lat1,lng1,lat2,lng2):\n",
    "    lat = lat1 - lat2\n",
    "    lon = lng1 -lng2\n",
    "\n",
    "    if lat<0:\n",
    "        if lon>0:\n",
    "            tan =  -lon/lat\n",
    "            R = math.atan(tan)\n",
    "            return (math.pi -R)\n",
    "        elif lon<0:\n",
    "            tan =  lon/lat\n",
    "            R = math.atan(tan)\n",
    "            return(math.pi +R)\n",
    "        else:\n",
    "            return math.pi\n",
    "    elif lat >0:\n",
    "        if lon>0:\n",
    "            tan =  lon/lat\n",
    "            return math.atan(tan)\n",
    "        elif lon<0:\n",
    "            tan =  -lon/lat\n",
    "            R = math.atan(tan)\n",
    "            return (2*math.pi -R)\n",
    "        else:\n",
    "            return 0\n",
    "    else:\n",
    "        if lon>0:\n",
    "            return math.pi/2\n",
    "        elif lon<0:\n",
    "            return 3*math.pi/2\n",
    "        else:\n",
    "            return 0"
   ]
  },
  {
   "cell_type": "code",
   "execution_count": 8,
   "metadata": {
    "collapsed": true
   },
   "outputs": [],
   "source": [
    "# 给商家打标签\n",
    "def label_shop_use(datalist,model_dict):\n",
    "    for ID in IDlist:\n",
    "        data = datalist.get(ID)\n",
    "        #print(data.head())\n",
    "        data['商家类别'] =0\n",
    "        model = model_dict.get(ID)    \n",
    "        data.reset_index(drop=True,inplace=True)\n",
    "        for i in range(len(data)):\n",
    "            shop_lat = data.loc[i,'srclatitude']\n",
    "            shop_lon = data.loc[i,'srclongitude']\n",
    "            shop_label = model.predict([[shop_lat,shop_lon]])[0]\n",
    "            data.loc[i,'商家类别'] = shop_label\n",
    "        datalist.update({ID:data})\n",
    "    return datalist"
   ]
  },
  {
   "cell_type": "code",
   "execution_count": 9,
   "metadata": {
    "collapsed": true
   },
   "outputs": [],
   "source": [
    "# 对第某一个商圈中的第i个商家中心进行用户聚类\n",
    "def usr_julei(data,usrN,shop_lat,shop_lon):\n",
    "    data_new =data.drop_duplicates(subset=['dstlatitude','dstlongitude'])\n",
    "    data_new.reset_index(drop =True,inplace=True)\n",
    "    data_new['角度'] = 0\n",
    "    for i in range(len(data_new)):\n",
    "        lat = data_new.loc[i,'dstlatitude']\n",
    "        lon = data_new.loc[i,'dstlongitude']\n",
    "        r=Ran(lat,lon,shop_lat,shop_lon)\n",
    "        data_new.loc[i,'角度'] = r\n",
    "    \n",
    "    inp = data_new['角度'].values\n",
    "    inputs = [[value] for value in inp]\n",
    "    kmeans = KMeans(n_clusters =usrN,random_state=1)\n",
    "    kmeans.fit(inputs)\n",
    "    \n",
    "    x_lat = data_new['dstlatitude'].values\n",
    "    y_lon = data_new['dstlongitude'].values\n",
    "    \n",
    "    list_lat=[]\n",
    "    list_lon=[]\n",
    "    for i in range(usrN):\n",
    "        lat1 = x_lat[(kmeans.labels_==i)]\n",
    "        lon1 = y_lon[(kmeans.labels_==i)]\n",
    "        list_lat.append(lat1)\n",
    "        list_lon.append(lon1)\n",
    "       \n",
    "        \n",
    "    #pig = plt.figure(figsize=(12,12))\n",
    "   # color =['red','green','black','blue','orange','purple']\n",
    "   # for i in range(usrN):\n",
    "        #plt.scatter(list_lat[i][:],list_lon[i][:],c=color[i])\n",
    "       # plt.scatter(shop_lat,shop_lon,c='purple')\n",
    "    #plt.show()\n",
    "    #plt.close()\n",
    "    return kmeans"
   ]
  },
  {
   "cell_type": "code",
   "execution_count": 10,
   "metadata": {
    "collapsed": true
   },
   "outputs": [],
   "source": [
    "# 对一个商圈的每一个商家聚类中心进行用户聚类\n",
    "def shangquan(data,df_shop,usrN,modelPath,ID):\n",
    "    n = int(len(df_shop.columns)/2)\n",
    "    model_list=[]\n",
    "    for i in range(n):\n",
    "        strlat = 'zonelat'+str(i)\n",
    "        strlon = 'zonelon'+str(i)\n",
    "        shop_lat = df_shop.loc[0,strlat]\n",
    "        shop_lon = df_shop.loc[0,strlon]\n",
    "        model =usr_julei(data,usrN,shop_lat,shop_lon)\n",
    "        joblib.dump(model,modelPath+ID+str(i)+'.pkl')"
   ]
  },
  {
   "cell_type": "code",
   "execution_count": 11,
   "metadata": {
    "collapsed": true
   },
   "outputs": [],
   "source": [
    "# 生成所有商圈的用户聚类中心模型\n",
    "def usr_model(datalist,IDlist,cla_dict,dict_user,modelPath):\n",
    "    for ID in IDlist:\n",
    "        data = datalist.get(ID)\n",
    "        df_shop = cla_dict.get(ID)\n",
    "        usrN = dict_user.get(ID)\n",
    "        shangquan(data,df_shop,usrN,modelPath,ID)"
   ]
  },
  {
   "cell_type": "code",
   "execution_count": 12,
   "metadata": {
    "collapsed": true
   },
   "outputs": [],
   "source": [
    "def timePross(data):\n",
    "    result = data % 86400\n",
    "    if result >18000:\n",
    "        result = 140\n",
    "    return result"
   ]
  },
  {
   "cell_type": "code",
   "execution_count": 13,
   "metadata": {
    "collapsed": true
   },
   "outputs": [],
   "source": [
    "# 计算一个商圈从小到大每个时刻的累计订单量\n",
    "def tongji(data):\n",
    "    data['createtime'] =data['createtime'].apply(timePross)\n",
    "    data.sort_values(by=['createtime'],inplace=True)\n",
    "    maxTime = data['createtime'].max()\n",
    "    minTime =data['createtime'].min()\n",
    "    i =1\n",
    "    time1=minTime\n",
    "    timelist =[]\n",
    "    while time1 <=maxTime:\n",
    "        time1 = minTime+i*60\n",
    "        i+=1\n",
    "        timelist.append(time1)\n",
    "    df= pd.DataFrame({'time':timelist})\n",
    "    df.loc[0,'newOrder'] = len(data.loc[(data['createtime']<=df.loc[0,'time']),:])\n",
    "    for i in range(1,len(df)):\n",
    "        time1 = df.loc[i-1,'time']\n",
    "        time2 = df.loc[i,'time']\n",
    "        ordern = len(data.loc[(data['createtime']>time1)&(data['createtime']<=time2),:])\n",
    "        df.loc[i,'newOrder'] = ordern\n",
    "    df['allOreder']=df['newOrder'].cumsum(axis=0)\n",
    "    #fig = plt.figure(figsize=(15,10))\n",
    "    #plt.plot(df['time'],df['allOreder'],c='red',label='累计订单')\n",
    "    #plt.show()\n",
    "    #plt.close()\n",
    "    return df"
   ]
  },
  {
   "cell_type": "code",
   "execution_count": 34,
   "metadata": {
    "collapsed": true
   },
   "outputs": [],
   "source": [
    "# 对一个商圈进行时间划分，\n",
    "def timeQun(data,IsOrderNumber,Number):\n",
    "    timelist = [[] for i in range(Number)] # 存放分时间区间\n",
    "    timelist[0].append(0)\n",
    "    if IsOrderNumber: # 如果是按照等订单方式进行划分\n",
    "        df=tongji(data)\n",
    "        orderAll = df.loc[len(df)-1,'allOreder'] # 总的订单数\n",
    "        disOrder = int(orderAll /Number) # 每个区间的订单数\n",
    "        j=0\n",
    "        for i in range(Number-1):\n",
    "            orderN = disOrder*(i+1)\n",
    "            \n",
    "            while True:\n",
    "                j +=1\n",
    "                if j<len(df):\n",
    "                    if df.loc[j,'allOreder'] >=orderN:\n",
    "                        break\n",
    "                else:\n",
    "                    break          \n",
    "            time = df.loc[j,'time']\n",
    "            timelist[i].append(time)\n",
    "            timelist[i+1].append(time)\n",
    "        timelist[Number-1].append(18000)\n",
    "    else:\n",
    "        data['createtime'] =data['createtime'].apply(timePross)\n",
    "        # 根据等时间划分区间\n",
    "        start = data['createtime'].min()\n",
    "        end = data['createtime'].max()\n",
    "        distime = int((end-start)/Number) #时间间隔\n",
    "        \n",
    "        for i in range(Number-1):\n",
    "            timelist[i].append(distime*(i+1))\n",
    "            timelist[i+1].append(distime*(i+1))\n",
    "        \n",
    "        timelist[Number-1].append(18000)\n",
    "    return timelist"
   ]
  },
  {
   "cell_type": "code",
   "execution_count": 15,
   "metadata": {
    "collapsed": true
   },
   "outputs": [],
   "source": [
    "# 对所有的商圈进行时间划分\n",
    "def timeAll(datalist,IDlist,Number_dict,ISorderNumber):\n",
    "    dict_time ={}\n",
    "    for ID in IDlist:\n",
    "        data = datalist.get(ID)\n",
    "        Number = Number_dict.get(ID)\n",
    "        timelist = timeQun(data,ISorderNumber,Number)\n",
    "        \n",
    "        dict_time.update({ID:timelist})\n",
    "    return dict_time"
   ]
  },
  {
   "cell_type": "code",
   "execution_count": 16,
   "metadata": {
    "collapsed": true
   },
   "outputs": [],
   "source": [
    "# 某一个商圈，每个时段，每个商家中心的用户中心的蓄单量\n",
    "def orderlimit(ID,savePath,orderNumber):\n",
    "    wt = open(savePath+ID+'b.txt','w')\n",
    "    for st in orderNumber:# 每个时间段\n",
    "        string=[]\n",
    "        for i in st: # 每个商家聚类中心\n",
    "            string.append(str(i[0]))\n",
    "            string.append('#')\n",
    "        a=''\n",
    "        for j in range(len(string)-1):\n",
    "            a= a+string[j]\n",
    "        wt.write(a+'\\n')\n",
    "    wt.close()"
   ]
  },
  {
   "cell_type": "code",
   "execution_count": 17,
   "metadata": {
    "collapsed": true
   },
   "outputs": [],
   "source": [
    "# 将所有商圈的用户中心个数写入\n",
    "def orderlimitAll(IDlist,savePath,orderNumber_dict):\n",
    "    for ID in IDlist:\n",
    "        orderlimit(ID,savePath,orderNumber_dict.get(ID))\n",
    "        "
   ]
  },
  {
   "cell_type": "code",
   "execution_count": 18,
   "metadata": {
    "collapsed": true
   },
   "outputs": [],
   "source": [
    "# 计算某一个商家聚类中心每个时间段的订单产生概率\n",
    "def probability(data,time1):\n",
    "    shopN = len(data['商家类别'].unique())\n",
    "    shop_pro =[] # 每个时段每个商家类别产生概率\n",
    "    order_time=[] # 每个时间商圈产生的订单总量\n",
    "    data['createtime'] =data['createtime'].apply(timePross)\n",
    "    for t in time1:\n",
    "        data1 = data.loc[(data['createtime']>= t[0]) &(data['createtime']<t[1]),:]\n",
    "        data1_list=[]\n",
    "        shop =[] # 每个商家类别产生的概率        \n",
    "        allLenth = len(data1)\n",
    "        order_time.append(allLenth)\n",
    "        for i in range(shopN):\n",
    "            df = data1.loc[data1['商家类别']==i,:]\n",
    "            lenth_shop = len(df)\n",
    "            shop.append((lenth_shop/allLenth))\n",
    "            data1_list.append(df)\n",
    "                   \n",
    "        shop_pro.append(shop)\n",
    "    return shop_pro,order_time\n"
   ]
  },
  {
   "cell_type": "code",
   "execution_count": 19,
   "metadata": {
    "collapsed": true
   },
   "outputs": [],
   "source": [
    "def getPro(data_dict,time_dict,IDlist):\n",
    "    shoppro_dict ={}\n",
    "    order_dict={}\n",
    "    for ID in IDlist:\n",
    "        data = data_dict.get(ID)\n",
    "        time1 = time_dict.get(ID)\n",
    "        s,o = probability(data,time1)\n",
    "        shoppro_dict.update({ID:s})\n",
    "        order_dict.update({ID:o})\n",
    "    return shoppro_dict,order_dict"
   ]
  },
  {
   "cell_type": "code",
   "execution_count": 1,
   "metadata": {
    "collapsed": true
   },
   "outputs": [],
   "source": [
    "# 设置骑士的额定取单容量\n",
    "def riderLoad(dict_time,shopN_dict,dict_orderlimit,IDlist):\n",
    "    rider_limit ={}\n",
    "    for ID in IDlist:\n",
    "        shopn = shopN_dict.get(ID)\n",
    "        timen = dict_time.get(ID)\n",
    "        ordern = dict_time.get(ID)\n",
    "        order_limit = [[[ordern[i]] for j in range(shopn)] for i in range(timen)]\n",
    "        rider_limit.update({ID:order_limit})\n",
    "        \n",
    "    "
   ]
  },
  {
   "cell_type": "code",
   "execution_count": 20,
   "metadata": {
    "collapsed": true
   },
   "outputs": [],
   "source": [
    "# 写入信息\n",
    "def write_csv(zhongxin_df,cla,time1,shop,order,ID,model_path,usrn):\n",
    "    column_pro = []\n",
    "    column_lat = []\n",
    "    column_lon = []\n",
    "    tN = len(order) # 时间区间个数\n",
    "    sN = len(shop[0]) # 商家聚类中心个数\n",
    "    timearry=[]\n",
    "    for i in range(tN):\n",
    "        timearry.append(time1[i][1])\n",
    "    df = pd.DataFrame({'时间':timearry})\n",
    "    \n",
    "    for i in range(sN):\n",
    "        column_pro.append('概率'+str(i))\n",
    "        \n",
    "    for i in range(sN):\n",
    "        column_lat.append('zonelat'+str(i))\n",
    "        column_lon.append('zonelon'+str(i))\n",
    "    \n",
    "    for name in column_pro:\n",
    "        df[name]=0\n",
    "    for name in column_lat:\n",
    "        df[name] = 0\n",
    "    for name in column_lon:\n",
    "        df[name] =0\n",
    "    \n",
    "    df['订单数'] =0\n",
    "    df['用户']=usrn\n",
    "    for i in range(len(df)):\n",
    "        for j in range(sN):\n",
    "            \n",
    "            df.loc[i,column_pro[j]] = shop[i][j]\n",
    "            df.loc[i,column_lat[j]] = cla.loc[0,column_lat[j]]\n",
    "            df.loc[i,column_lon[j]] = cla.loc[0,column_lon[j]]\n",
    "        df.loc[i,'订单数'] = order[i]\n",
    "        \n",
    "    df['中心lat'] = zhongxin_df.loc[zhongxin_df['商圈']==int(ID),'lat'].values[0]\n",
    "    df['中心lon'] = zhongxin_df.loc[zhongxin_df['商圈']==int(ID),'lon'].values[0]\n",
    "        \n",
    "    df.to_csv(model_path+ID+'a.txt',index=False,encoding='utf-8')"
   ]
  },
  {
   "cell_type": "code",
   "execution_count": 21,
   "metadata": {
    "collapsed": true
   },
   "outputs": [],
   "source": [
    "data_path='./order_history_20200420/'  # 原始数据读入路径\n",
    "IDlist = ['680507','725011','730221','738333','738432','1048660'] \n",
    "model_path = '../dispatch/dispatch-demo-py/demo/model/'  # 模型结果保存路径\n",
    "\n",
    "\n",
    "shopN_dict = {IDlist[0]:11,IDlist[1]:9,IDlist[2]:7,IDlist[3]:9,IDlist[4]:9,IDlist[5]:9} # 每个商圈要聚类的个数\n",
    "dict_user ={IDlist[0]:7,IDlist[1]:9,IDlist[2]:7,IDlist[3]:9,IDlist[4]:9,IDlist[5]:9}  # 每个商圈的每个商家聚类中心聚类个数\n",
    "dict_time = {IDlist[0]:5,IDlist[1]:5,IDlist[2]:5,IDlist[3]:5,IDlist[4]:5,IDlist[5]:5} # 每个商圈的时间划分区间个数\n",
    "# 每个时段，骑士的额定取单数量\n",
    "shop1 =[1,2,2,2,2]\n",
    "shop2 =[1,2,2,3,3]\n",
    "shop3 =[1,2,2,3,3]\n",
    "shop4 =[1,2,2,3,3]\n",
    "shop5 =[1,2,2,3,3]\n",
    "shop6 =[1,2,2,3,3]\n",
    "dict_orderlimit = {IDlist[0]:shop1,IDlist[1]:shop2,IDlist[2]:shop3,IDlist[3]:shop4,IDlist[4]:shop5,IDlist[5]:shop6} # 骑手额定容量\n"
   ]
  },
  {
   "cell_type": "code",
   "execution_count": null,
   "metadata": {
    "collapsed": true
   },
   "outputs": [],
   "source": [
    "# 商家聚类\n",
    "dataDict = getDataHistory(data_path,IDlist)\n",
    "shopJUlie(dataDict,IDlist,shopN_dict,model_path)"
   ]
  },
  {
   "cell_type": "code",
   "execution_count": null,
   "metadata": {
    "collapsed": true
   },
   "outputs": [],
   "source": [
    "# 用户聚类\n",
    "model_read = model_path\n",
    "dataDict = getDataHistory(data_path,IDlist)\n",
    "cla_dict,zhongxin,model_dict=getShopModel(model_read,IDlist)\n",
    "usr_model(dataDict,IDlist,cla_dict,dict_user,model_read)"
   ]
  },
  {
   "cell_type": "code",
   "execution_count": null,
   "metadata": {
    "collapsed": true
   },
   "outputs": [],
   "source": [
    "# 时间区间划分\n",
    "dataDict = getDataHistory(data_path,IDlist)\n",
    "IsOrderNumber = True\n",
    "time_dict =timeAll(dataDict,IDlist,dict_time,IsOrderNumber)"
   ]
  },
  {
   "cell_type": "code",
   "execution_count": null,
   "metadata": {
    "collapsed": true
   },
   "outputs": [],
   "source": [
    "# 额定骑手容量\n",
    "rider_limit=riderLoad(dict_time,shopN_dict,dict_orderlimit,IDlist)\n",
    "orderlimitAll(IDlist,model_path,rider_limit)"
   ]
  },
  {
   "cell_type": "code",
   "execution_count": null,
   "metadata": {
    "collapsed": true
   },
   "outputs": [],
   "source": [
    "# 计算每个时刻商家聚类中心的订单产生概率\n",
    "dataDict = getDataHistory(data_path,IDlist)\n",
    "# 先打商家标签\n",
    "dataDict=label_shop_use(dataDict,model_dict)\n",
    "shopp_dict,shop_order=getPro(dataDict,time_dict,IDlist)"
   ]
  },
  {
   "cell_type": "code",
   "execution_count": null,
   "metadata": {
    "collapsed": true
   },
   "outputs": [],
   "source": [
    "# 保存数据\n",
    "for ID in IDlist:\n",
    "    write_csv(zhongxin,cla_dict.get(ID),time_dict.get(ID),shopp_dict.get(ID),shop_order.get(ID),ID,model_path,dict_user.get(ID))            "
   ]
  },
  {
   "cell_type": "code",
   "execution_count": null,
   "metadata": {
    "collapsed": true
   },
   "outputs": [],
   "source": []
  }
 ],
 "metadata": {
  "kernelspec": {
   "display_name": "Python 3",
   "language": "python",
   "name": "python3"
  },
  "language_info": {
   "codemirror_mode": {
    "name": "ipython",
    "version": 3
   },
   "file_extension": ".py",
   "mimetype": "text/x-python",
   "name": "python",
   "nbconvert_exporter": "python",
   "pygments_lexer": "ipython3",
   "version": "3.6.7"
  }
 },
 "nbformat": 4,
 "nbformat_minor": 2
}
