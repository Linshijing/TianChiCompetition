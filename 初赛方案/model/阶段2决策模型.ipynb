{
 "cells": [
  {
   "cell_type": "code",
   "execution_count": 2,
   "metadata": {
    "collapsed": true
   },
   "outputs": [],
   "source": [
    "import numpy as np\n",
    "import pandas as pd\n",
    "import os\n",
    "import copy\n",
    "import warnings\n",
    "warnings.filterwarnings('ignore')\n",
    "from sklearn.utils import shuffle\n",
    "from sklearn.ensemble import RandomForestClassifier\n",
    "\n",
    "\n",
    "from sklearn.externals import joblib\n",
    "pd.set_option('display.max_columns', None)\n"
   ]
  },
  {
   "cell_type": "code",
   "execution_count": 3,
   "metadata": {
    "collapsed": true
   },
   "outputs": [],
   "source": [
    "data = pd.read_csv('../user_data/tmp_data/decisionData.txt')"
   ]
  },
  {
   "cell_type": "code",
   "execution_count": 4,
   "metadata": {
    "collapsed": true
   },
   "outputs": [],
   "source": [
    "# 划分训练集和测试集\n",
    "data = shuffle(data)\n",
    "train_size =0.9 # 10%的数据作为测试集\n",
    "data_trainSize= int(len(data)*train_size)\n",
    "train_data = data.iloc[:data_trainSize,:] \n",
    "test_data = data.iloc[data_trainSize:,:]"
   ]
  },
  {
   "cell_type": "code",
   "execution_count": 5,
   "metadata": {
    "collapsed": true
   },
   "outputs": [],
   "source": [
    "train_data.reset_index(drop=True,inplace=True)\n",
    "test_data.reset_index(drop =True,inplace=True)"
   ]
  },
  {
   "cell_type": "code",
   "execution_count": 6,
   "metadata": {
    "collapsed": true
   },
   "outputs": [],
   "source": [
    "# 挑出一致性正确的数据\n",
    "train_data = train_data.loc[(train_data['一致性']==1),:]\n",
    "test_data = test_data.loc[(test_data['一致性']==1),:]"
   ]
  },
  {
   "cell_type": "code",
   "execution_count": 7,
   "metadata": {
    "collapsed": true
   },
   "outputs": [],
   "source": [
    "# 挑出两边都有订单的数据\n",
    "train_data = train_data.loc[(train_data['取单号']!=0)&(train_data['送单号']!=0),:]\n",
    "test_data = test_data.loc[(test_data['取单号']!=0)&(test_data['送单号']!=0),:]\n",
    "\n",
    "train_data.reset_index(drop=True,inplace=True)\n",
    "test_data.reset_index(drop =True,inplace=True)"
   ]
  },
  {
   "cell_type": "code",
   "execution_count": 8,
   "metadata": {
    "collapsed": true
   },
   "outputs": [],
   "source": [
    "# 构建模型输入特征以及标签的方法\n",
    "def getDis(data):\n",
    "    data['距离差'] = data['商家距离'] - data['客户距离']\n",
    "    data['理论时间差'] = data['理论取单时间'] -data['理论送单时间']\n",
    "    data['承诺时间差'] = data['取单承诺送达时间'] - data['送单承诺送达时间']\n",
    "    data['承诺理论时间差'] = data['送单承诺送达时间'] - data['理论送单时间']\n",
    "    data['可取理论时间差'] = data['取单可取时间'] - data['理论取单时间']\n",
    "    data['可取单数'] = data['最大负荷量'] - data['当前已取单数']\n",
    "    data['标签'] = data['动作'].apply(lambda x:0 if x=='PICKUP' else 1)\n",
    "    return data"
   ]
  },
  {
   "cell_type": "code",
   "execution_count": 9,
   "metadata": {
    "collapsed": true
   },
   "outputs": [],
   "source": [
    "train_data = getDis(train_data)\n",
    "test_data = getDis(test_data)"
   ]
  },
  {
   "cell_type": "code",
   "execution_count": 10,
   "metadata": {
    "collapsed": true
   },
   "outputs": [],
   "source": [
    "# 排除掉距离差很多的数据\n",
    "def getOutRange(data,x):\n",
    "    dataRight = data.loc[(data['距离差']>=-x) &(data['距离差']<=x),:]\n",
    "    return dataRight"
   ]
  },
  {
   "cell_type": "code",
   "execution_count": 12,
   "metadata": {},
   "outputs": [],
   "source": [
    "# 根据数据分析，在取单和送单直接的距离差大于1200时，根据距离的大小，决定取单还是送单准确率在95%以上，因此这部分数据直接逻辑判断\n",
    "train_data = getOutRange(train_data,1200)\n",
    "test_data = getOutRange(test_data,1200)\n",
    "\n",
    "train_data.reset_index(drop=True,inplace=True)\n",
    "test_data.reset_index(drop =True,inplace=True)"
   ]
  },
  {
   "cell_type": "code",
   "execution_count": 13,
   "metadata": {
    "collapsed": true
   },
   "outputs": [],
   "source": [
    "# 根据距离差划分数据集分别建模\n",
    "def divideModel(train,test,range1,range2,name,inputName,ntree,ndep):\n",
    "    \n",
    "    trainList=list() # 存放划分后的训练集\n",
    "    testList =list() # 存放划分后的训练集\n",
    "    modelList = list() # 存放对应数据的模型\n",
    "    \n",
    "    score_train=list() # 训练集模型的准确率\n",
    "    score_test = list() # 测试集模型的准确率\n",
    "    trainN =0 # 训练集样本个数\n",
    "    testN =0  # 测试集样本个数\n",
    "    trainRN=0 # 训练集预测正确的个数\n",
    "    testRN =0 # 测试集预测正确的个数\n",
    "    \n",
    "    # 划分数据集\n",
    "    for i in range(len(range1)):\n",
    "        train_part = train.loc[(train[name]>=range1[i])&(train[name]<=range2[i]),:]\n",
    "        test_part = test.loc[(test[name]>=range1[i])&(test[name]<=range2[i]),:]   \n",
    "        \n",
    "        trainList.append(train_part)\n",
    "        testList.append(test_part)\n",
    "    \n",
    "    # 每部分数据分别建立随机森林模型\n",
    "    for i in range(len(trainList)):\n",
    "        x_train = trainList[i][inputName].values\n",
    "        x_test = testList[i][inputName].values\n",
    "        y_train = trainList[i]['标签'].values\n",
    "        y_test = testList[i]['标签'].values\n",
    "        \n",
    "        model_RF = RandomForestClassifier(n_estimators=ntree[i],max_depth=ndep[i],random_state=0)\n",
    "        model_RF.fit(x_train,y_train)\n",
    "        train_score=model_RF.score(x_train,y_train)\n",
    "        test_score=model_RF.score(x_test,y_test)\n",
    "        modelList.append(model_RF)\n",
    "        score_train.append(train_score)\n",
    "        score_test.append(test_score)\n",
    "     \n",
    "    # 计算最后总的正确率\n",
    "    for i in range(len(trainList)):\n",
    "        trainN +=len(trainList[i])\n",
    "        testN +=len(testList[i])\n",
    "        \n",
    "        trainRN +=score_train[i]*len(trainList[i])\n",
    "        testRN +=score_test[i]*len(testList[i])\n",
    "    \n",
    "    return trainRN/trainN,testRN/testN,modelList\n",
    "    \n",
    "        \n",
    "        "
   ]
  },
  {
   "cell_type": "code",
   "execution_count": 16,
   "metadata": {},
   "outputs": [],
   "source": [
    "# 左区间\n",
    "rg1 = [0,100,301,-1201,-399,-199,-99]\n",
    "# 右区间\n",
    "rg2 =[100,300,1201,-400,-200,-100,0]\n",
    "#特征\n",
    "columns = ['理论时间差','承诺时间差','可取理论时间差','可取单数']\n",
    "# 每个模型对应的树个数和最大深度参数\n",
    "ntree = [50,50,50,50,50,50,50]\n",
    "ndep = [3,4,4,5,5,5,5]\n",
    "\n",
    "score_train,score_test,modelList=divideModel(train_data,test_data,rg1,rg2,'距离差',columns,ntree,ndep)\n"
   ]
  },
  {
   "cell_type": "code",
   "execution_count": 17,
   "metadata": {},
   "outputs": [],
   "source": [
    "# 保存模型\n",
    "for i in range(len(modelList)):\n",
    "    joblib.dump(modelList[i],'../user_data/model_data/decision_model/RFdecision_dis'+str(i+1)+'.pkl')"
   ]
  }
 ],
 "metadata": {
  "kernelspec": {
   "display_name": "Python 3",
   "language": "python",
   "name": "python3"
  },
  "language_info": {
   "codemirror_mode": {
    "name": "ipython",
    "version": 3
   },
   "file_extension": ".py",
   "mimetype": "text/x-python",
   "name": "python",
   "nbconvert_exporter": "python",
   "pygments_lexer": "ipython3",
   "version": "3.6.7"
  }
 },
 "nbformat": 4,
 "nbformat_minor": 2
}
