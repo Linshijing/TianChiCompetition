{
 "cells": [
  {
   "cell_type": "code",
   "execution_count": 1,
   "metadata": {
    "collapsed": true
   },
   "outputs": [],
   "source": [
    "import pandas as pd\n",
    "import numpy as np\n",
    "import warnings\n",
    "\n",
    "warnings.filterwarnings('ignore')\n",
    "\n",
    "from sklearn.utils import shuffle\n",
    "from sklearn.ensemble import RandomForestClassifier\n",
    "\n",
    "\n",
    "from sklearn.externals import joblib\n"
   ]
  },
  {
   "cell_type": "code",
   "execution_count": 2,
   "metadata": {
    "collapsed": true
   },
   "outputs": [],
   "source": [
    "pathBase = '../user_data/tmp_data/'"
   ]
  },
  {
   "cell_type": "code",
   "execution_count": 3,
   "metadata": {
    "collapsed": true
   },
   "outputs": [],
   "source": [
    "pickTwo= pd.read_csv(pathBase+'pickTwo.txt') # 双可取单数据\n",
    "pickThree = pd.read_csv(pathBase+'pickThree.txt') # 三可取单数据\n",
    "deliveryTwo = pd.read_csv(pathBase+'deliveryTwo.txt') # 双可送单数据\n",
    "deliveryThree = pd.read_csv(pathBase+'deliveryThree.txt') # 三可送单数据"
   ]
  },
  {
   "cell_type": "code",
   "execution_count": 4,
   "metadata": {
    "collapsed": true
   },
   "outputs": [],
   "source": [
    "# 划分训练集和测试集\n",
    "\n",
    "pickTwo = shuffle(pickTwo)\n",
    "pickThree = shuffle(pickThree)\n",
    "deliveryTwo = shuffle(deliveryTwo)\n",
    "deliveryThree = shuffle(deliveryThree)\n",
    "\n",
    "train_size =0.9 # 10%的数据作为测试集\n",
    "\n",
    "pickTwo_trainSize = int(len(pickTwo)*train_size)\n",
    "pickThree_trainSize = int(len(pickThree)*train_size)\n",
    "deliveryTwo_trainSize = int(len(deliveryTwo)*train_size)\n",
    "deliveryThree_trainSize = int(len(deliveryThree)*train_size)\n",
    "\n",
    "pickTwo_train = pickTwo.iloc[:pickTwo_trainSize,:] \n",
    "pickTwo_test = pickTwo.iloc[pickTwo_trainSize:,:]\n",
    "pickThree_train = pickThree.iloc[:pickThree_trainSize,:]\n",
    "pickThree_test =  pickThree.iloc[pickThree_trainSize:,:]\n",
    "deliveryTwo_train = deliveryTwo.iloc[:deliveryTwo_trainSize,:]\n",
    "deliveryTwo_test = deliveryTwo.iloc[deliveryTwo_trainSize:,:]\n",
    "deliveryThree_train = deliveryThree.iloc[:deliveryThree_trainSize,:]\n",
    "deliveryThree_test = deliveryThree.iloc[deliveryThree_trainSize:,:]"
   ]
  },
  {
   "cell_type": "code",
   "execution_count": 5,
   "metadata": {
    "collapsed": true
   },
   "outputs": [],
   "source": [
    "# 可选双订单数据根据距离差是否为0，化分为两类，之后分别进行建模\n",
    "def DivideTwo(data):\n",
    "    data1 = data.loc[data['1-2距离差']==0,:]\n",
    "    data2 = data.loc[data['1-2距离差']!=0,:]\n",
    "    \n",
    "    return data1,data2"
   ]
  },
  {
   "cell_type": "code",
   "execution_count": 6,
   "metadata": {
    "collapsed": true
   },
   "outputs": [],
   "source": [
    "# 可选三订单数据根据三个订单之间的距离差是否都为0，还是部分为0划分为三类\n",
    "def DivideThree(data):\n",
    "    data1 = data.loc[(data['1-2距离差']==0)&(data['1-3距离差']==0)&(data['2-3距离差']==0),:] \n",
    "    data2 = data.loc[(data['1-2距离差']!=0)&(data['1-3距离差']!=0)&(data['2-3距离差']!=0),:]\n",
    "    df1=data.append(data1)\n",
    "    df2 = df1.append(data2)\n",
    "    data3= df2.drop_duplicates(subset=['订单号', '订单1', '订单2','订单3','1-2距离差','1-3距离差','2-3距离差'],keep=False)\n",
    "    \n",
    "    return data1,data2,data3"
   ]
  },
  {
   "cell_type": "code",
   "execution_count": 7,
   "metadata": {
    "collapsed": true
   },
   "outputs": [],
   "source": [
    "# 细分数据类\n",
    "pickTwo_train1,pickTwo_train2 = DivideTwo(pickTwo_train)\n",
    "pickTwo_test1,pickTwo_test2 = DivideTwo(pickTwo_test)\n",
    "pickThree_train1,pickThree_train2,pickThree_train3 = DivideThree(pickThree_train)\n",
    "pickThree_test1,pickThree_test2,pickThree_test3 = DivideThree(pickThree_test)\n",
    "deliveryTwo_train1,deliveryTwo_train2 = DivideTwo(deliveryTwo_train)\n",
    "deliveryTwo_test1,deliveryTwo_test2 = DivideTwo(deliveryTwo_test)\n",
    "_,deliveryThree_train2,deliveryThree_train3= DivideThree(deliveryThree_train) # 送单中3个订单距离差为0数量很少，因此不对此建模\n",
    "_,deliveryThree_test2,deliveryThree_test3 = DivideThree(deliveryThree_test)"
   ]
  },
  {
   "cell_type": "code",
   "execution_count": 8,
   "metadata": {
    "collapsed": true
   },
   "outputs": [],
   "source": [
    "# 根据数据分析，双订单在距离差为x以上时，根据距离大小直接选择订单的准确率在95%以上，排除这部分数据，后续直接根据距离进行选单\n",
    "def Narrow(data,x):\n",
    "    data = data.loc[(data['1-2距离差']>=x)|(data['1-2距离差']<=-x),:]\n",
    "    return data"
   ]
  },
  {
   "cell_type": "code",
   "execution_count": 9,
   "metadata": {
    "collapsed": true
   },
   "outputs": [],
   "source": [
    "# 距离差不为0的双候选单，排除一定距离差的数据\n",
    "pickTwo_train2 = Narrow(pickTwo_train2,1500)\n",
    "pickTwo_test2 = Narrow(pickTwo_test2,1500)\n",
    "deliveryTwo_train2 = Narrow(deliveryTwo_train2,1000)\n",
    "deliveryTwo_test2 = Narrow(deliveryTwo_train2,1000)"
   ]
  },
  {
   "cell_type": "code",
   "execution_count": 10,
   "metadata": {
    "collapsed": true
   },
   "outputs": [],
   "source": [
    "# 构建随机森林模型方法\n",
    "def Model(train_data,test_data,columns,treeN,depth):\n",
    "    x_train=train_data[columns]\n",
    "    y_train = train_data['标签']\n",
    "    x_test = test_data[columns]\n",
    "    y_test = test_data['标签']\n",
    "    \n",
    "    model = RandomForestClassifier(n_estimators=treeN,max_depth=depth,random_state=0)\n",
    "    model.fit(x_train,y_train)\n",
    "    score_train=model.score(x_train,y_train)\n",
    "    score_test = model.score(x_test,y_test)\n",
    "    return model,score_train,score_test"
   ]
  },
  {
   "cell_type": "code",
   "execution_count": 30,
   "metadata": {
    "collapsed": true
   },
   "outputs": [],
   "source": [
    "# 双取单距离差为0模型\n",
    "columns1 = ['1-2通知时间差','1-2可取单时间差','1-2承诺时间差']\n",
    "model_pickTwo1,score_train,score_test = Model(pickTwo_train1,pickTwo_test1,columns1,100,3)\n",
    "print('train:%.4f,test:%.4f'%(score_train,score_test))"
   ]
  },
  {
   "cell_type": "code",
   "execution_count": 31,
   "metadata": {
    "collapsed": true
   },
   "outputs": [],
   "source": [
    "joblib.dump(model_pickTwo1,'../user_data/model_data/choose_model/RFpickSame2.pkl')"
   ]
  },
  {
   "cell_type": "code",
   "execution_count": 32,
   "metadata": {
    "collapsed": true
   },
   "outputs": [],
   "source": [
    "# 双取单距离差不为0模型\n",
    "columns1 = ['1-2理论时间差','1-2通知时间差','1-2可取单时间差','1-2承诺时间差']\n",
    "model_pickTwo2,score_train,score_test = Model(pickTwo_train2,pickTwo_test2,columns1,100,5)\n",
    "print('train:%.4f,test:%.4f'%(score_train,score_test))"
   ]
  },
  {
   "cell_type": "code",
   "execution_count": 33,
   "metadata": {
    "collapsed": true
   },
   "outputs": [],
   "source": [
    "joblib.dump(model_pickTwo2,'../user_data/model_data/choose_model/RFpick2.pkl')"
   ]
  },
  {
   "cell_type": "code",
   "execution_count": 34,
   "metadata": {
    "collapsed": true
   },
   "outputs": [],
   "source": [
    "# 三取单距离差为0\n",
    "columns1 = ['1-2通知时间差','1-3通知时间差','2-3通知时间差','1-2可取单时间差','1-3可取单时间差','2-3可取单时间差','1-2承诺时间差','1-3承诺时间差','2-3承诺时间差']\n",
    "model_pickThree1,score_train,score_test = Model(pickThree_train1,pickThree_test1,columns1,100,5)\n",
    "print('train:%.4f,test:%.4f'%(score_train,score_test))"
   ]
  },
  {
   "cell_type": "code",
   "execution_count": 35,
   "metadata": {
    "collapsed": true
   },
   "outputs": [],
   "source": [
    "joblib.dump(model_pickThree1,'../user_data/model_data/choose_model/RFpickSame3.pkl')"
   ]
  },
  {
   "cell_type": "code",
   "execution_count": 36,
   "metadata": {
    "collapsed": true
   },
   "outputs": [],
   "source": [
    "# 三订单取单距离差都不为0的模型\n",
    "columns1 = ['1-2理论时间差','1-3理论时间差','2-3理论时间差','1-2通知时间差','1-3通知时间差','2-3通知时间差','1-2可取单时间差','1-3可取单时间差','2-3可取单时间差','1-2承诺时间差','1-3承诺时间差','2-3承诺时间差']\n",
    "model_pickThree2,score_train,score_test = Model(pickThree_train2,pickThree_test2,columns1,200,6)\n",
    "print('train:%.4f,test:%.4f'%(score_train,score_test))"
   ]
  },
  {
   "cell_type": "code",
   "execution_count": 37,
   "metadata": {
    "collapsed": true
   },
   "outputs": [],
   "source": [
    "joblib.dump(model_pickThree2,'../user_data/model_data/choose_model/RFpick3.pkl')"
   ]
  },
  {
   "cell_type": "code",
   "execution_count": 38,
   "metadata": {
    "collapsed": true
   },
   "outputs": [],
   "source": [
    "# 三订单取单距离差部分为0的模型\n",
    "columns1 = ['1-2理论时间差','1-3理论时间差','2-3理论时间差','1-2通知时间差','1-3通知时间差','2-3通知时间差','1-2可取单时间差','1-3可取单时间差','2-3可取单时间差','1-2承诺时间差','1-3承诺时间差','2-3承诺时间差']\n",
    "model_pickThree3,score_train,score_test = Model(pickThree_train3,pickThree_test3,columns1,200,7)\n",
    "print('train:%.4f,test:%.4f'%(score_train,score_test))"
   ]
  },
  {
   "cell_type": "code",
   "execution_count": 39,
   "metadata": {
    "collapsed": true
   },
   "outputs": [],
   "source": [
    "joblib.dump(model_pickThree3,'../user_data/model_data/choose_model/RFpickpartSame3.pkl')"
   ]
  },
  {
   "cell_type": "code",
   "execution_count": 40,
   "metadata": {
    "collapsed": true
   },
   "outputs": [],
   "source": [
    "# 双订单送单距离差为0的模型\n",
    "columns1 = ['1-2通知时间差','1-2承诺时间差']\n",
    "model_deliveryTwo1,score_train,score_test = Model(deliveryTwo_train1,deliveryTwo_test1,columns1,100,3)\n",
    "print('train:%.4f,test:%.4f'%(score_train,score_test))"
   ]
  },
  {
   "cell_type": "code",
   "execution_count": 41,
   "metadata": {
    "collapsed": true
   },
   "outputs": [],
   "source": [
    "joblib.dump(model_deliveryTwo1,'../user_data/model_data/choose_model/RFDESame2.pkl')"
   ]
  },
  {
   "cell_type": "code",
   "execution_count": 42,
   "metadata": {
    "collapsed": true
   },
   "outputs": [],
   "source": [
    "# 双订单送单距离差不为0的模型\n",
    "columns1 = ['1-2理论时间差','1-2通知时间差','1-2可取单时间差','1-2承诺时间差']\n",
    "model_deliveryTwo2,score_train,score_test = Model(deliveryTwo_train2,deliveryTwo_test2,columns1,100,5)\n",
    "print('train:%.4f,test:%.4f'%(score_train,score_test))"
   ]
  },
  {
   "cell_type": "code",
   "execution_count": 43,
   "metadata": {
    "collapsed": true
   },
   "outputs": [],
   "source": [
    "joblib.dump(model_deliveryTwo2,'../user_data/model_data/choose_model/RFDE2.pkl')"
   ]
  },
  {
   "cell_type": "code",
   "execution_count": 44,
   "metadata": {
    "collapsed": true
   },
   "outputs": [],
   "source": [
    "# # 三订单取单距离差都不为0的模型\n",
    "columns1 = ['1-2理论时间差','1-3理论时间差','2-3理论时间差','1-2承诺时间差','1-3承诺时间差','2-3承诺时间差']\n",
    "model_deliveryThree2,score_train,score_test = Model(deliveryThree_train2,deliveryThree_test2,columns1,200,8)\n",
    "print('train:%.4f,test:%.4f'%(score_train,score_test))"
   ]
  },
  {
   "cell_type": "code",
   "execution_count": 45,
   "metadata": {
    "collapsed": true
   },
   "outputs": [],
   "source": [
    "joblib.dump(model_deliveryThree2,'../user_data/model_data/choose_model/RFDE3.pkl')"
   ]
  },
  {
   "cell_type": "code",
   "execution_count": 46,
   "metadata": {
    "collapsed": true
   },
   "outputs": [],
   "source": [
    "# # 三订单送单部分距离差为0的模型\n",
    "columns1 = ['1-2理论时间差','1-3理论时间差','2-3理论时间差','1-2通知时间差','1-3通知时间差','2-3通知时间差','1-2可取单时间差','1-3可取单时间差','2-3可取单时间差','1-2承诺时间差','1-3承诺时间差','2-3承诺时间差']\n",
    "model_deliveryThree3,score_train,score_test = Model(deliveryThree_train3,deliveryThree_test3,columns1,200,4)\n",
    "print('train:%.4f,test:%.4f'%(score_train,score_test))"
   ]
  },
  {
   "cell_type": "code",
   "execution_count": 47,
   "metadata": {
    "collapsed": true
   },
   "outputs": [],
   "source": [
    "joblib.dump(model_deliveryThree3,'../user_data/model_data/choose_model/RFDEpartSame3.pkl')"
   ]
  },
  {
   "cell_type": "code",
   "execution_count": null,
   "metadata": {
    "collapsed": true
   },
   "outputs": [],
   "source": []
  }
 ],
 "metadata": {
  "kernelspec": {
   "display_name": "Python 3",
   "language": "python",
   "name": "python3"
  },
  "language_info": {
   "codemirror_mode": {
    "name": "ipython",
    "version": 3
   },
   "file_extension": ".py",
   "mimetype": "text/x-python",
   "name": "python",
   "nbconvert_exporter": "python",
   "pygments_lexer": "ipython3",
   "version": "3.6.7"
  }
 },
 "nbformat": 4,
 "nbformat_minor": 2
}
