{
 "cells": [
  {
   "cell_type": "code",
   "execution_count": 31,
   "metadata": {
    "collapsed": true
   },
   "outputs": [],
   "source": [
    "import numpy as np\n",
    "import pandas as pd\n",
    "import os\n",
    "import copy\n",
    "import warnings\n",
    "warnings.filterwarnings('ignore')"
   ]
  },
  {
   "cell_type": "code",
   "execution_count": 17,
   "metadata": {
    "collapsed": true
   },
   "outputs": [],
   "source": [
    "trainPath = '../data/eleme_round1_train' # 训练数据的路径\n",
    "data_list = [ str(d) for d in range(20200201,20200230)] # 日期列表"
   ]
  },
  {
   "cell_type": "code",
   "execution_count": 18,
   "metadata": {
    "collapsed": true
   },
   "outputs": [],
   "source": [
    "# 数据读取方法\n",
    "def getDF(path,fileName):\n",
    "    df_list =[]\n",
    "    for f in data_list:\n",
    "        fn = fileName+'_'+f+'.txt'\n",
    "        df = pd.read_csv(os.path.join(path,fileName,fn))\n",
    "        df_list.append(df)\n",
    "       \n",
    "    return df_list"
   ]
  },
  {
   "cell_type": "code",
   "execution_count": 19,
   "metadata": {},
   "outputs": [],
   "source": [
    "# 数据读取\n",
    "train_action_list= getDF(trainPath,'action')\n",
    "train_courier_list = getDF(trainPath,'courier')\n",
    "train_distance_list = getDF(trainPath,'distance')\n",
    "train_order_list = getDF(trainPath,'order')"
   ]
  },
  {
   "cell_type": "code",
   "execution_count": 21,
   "metadata": {
    "collapsed": true
   },
   "outputs": [],
   "source": [
    "# 列名字典\n",
    "action_columns_name_dict={'courier_id':'骑手ID','wave_index':'波次','tracking_id':'订单号','courier_wave_start_lng':'骑手起始经度','courier_wave_start_lat':'骑手起始纬度','action_type':'动作类型','expect_time':'时间'}\n",
    "courier_columns_name_dict={'courier_id':'骑手ID','level':'等级','speed':'速度','max_load':'最大负荷量'}\n",
    "distance_columns_name_dict={'courier_id':'骑手ID','wave_index':'波次','tracking_id':'源订单号','source_type':'源类型','source_lng':'源经度','source_lat':'源纬度','target_tracking_id':'目标订单号','target_type':'目标类型','target_lng':'目标经度','target_lat':'目标纬度','grid_distance':'距离'}\n",
    "order_columns_name_dict={'courier_id':'骑手ID','wave_index':'波次','tracking_id':'订单号','weather_grade':'天气','pick_lng':'商家纬度','pick_lat':'商家经度','deliver_lng':'客户纬度','deliver_lat':'客户经度','create_time':'创建时间','confirm_time':'确认时间','assigned_time':'通知时间','promise_deliver_time':'承诺送达时间','estimate_pick_time':'可以取单时间','aoi_id':'客户标识ID','shop_id':'商家标识ID'}"
   ]
  },
  {
   "cell_type": "code",
   "execution_count": 22,
   "metadata": {
    "collapsed": true
   },
   "outputs": [],
   "source": [
    "# 获取一个订单动作后对应的可选取单订单和可选送单订单的相关信息的方法\n",
    "def OneOrderActionGetAllOption(OrderID,Action,ActionDF,OrderDF,DistanceDF,shuxing):\n",
    "    action_time = ActionDF.loc[(ActionDF['订单号']==OrderID) & (ActionDF['动作类型']==Action),'时间'].values[0]\n",
    "    order_timeBefor = ActionDF.loc[ActionDF['时间'] < action_time,:] # 小于当前动作完成前的所有订单及对应动作\n",
    "    order_assign = pd.DataFrame(columns=['订单号','动作类型','时间','经度','纬度']) # 存放已发布，未提取\n",
    "    order_pickup = pd.DataFrame(columns=['订单号','动作类型','时间','经度','纬度']) # 存放已取单，未送单\n",
    "    last_action = order_timeBefor.iloc[-1,:] # 决策前的最后一个动作\n",
    "    \n",
    "    \n",
    "    # 挑出\n",
    "    for j in range(len(order_timeBefor)):\n",
    "        orderid = order_timeBefor.iloc[j,0] \n",
    "        orderDF = order_timeBefor.loc[order_timeBefor['订单号']== orderid,:]\n",
    "        if len(orderDF) == 1:\n",
    "            order_assign=order_assign.append(ActionDF.loc[(ActionDF['订单号']==orderDF.iloc[0,0]) & (ActionDF['动作类型'] =='PICKUP'),:],ignore_index =True)\n",
    "        elif len(orderDF) == 2:\n",
    "            df1 = orderDF.iloc[1,:]\n",
    "            order_pickup=order_pickup.append(ActionDF.loc[(ActionDF['订单号']==df1.iloc[0]) & (ActionDF['动作类型'] =='DELIVERY'),:],ignore_index =True)\n",
    "\n",
    "    order_pickup.drop_duplicates(inplace=True)\n",
    "    # 距离\n",
    "    order_assign['距离'] =0 # 骑手距离商家\n",
    "    order_pickup['距离'] =0 # 骑手距离客户\n",
    "    #shuxing = courier.loc[courier['骑手ID']==peopleID,['等级','速度','最大负荷量']] # 骑手属性\n",
    "    #distance_wave = distance.loc[(distance['骑手ID']==peopleID) & (distance['波次']==waveID)]\n",
    "    for y in range(len(order_assign)):\n",
    "        order_assign.iloc[y,5] = DistanceDF.loc[(DistanceDF['源订单号']==last_action['订单号']) & (DistanceDF['源类型']==last_action['动作类型'])&(DistanceDF['目标订单号']==order_assign.iloc[y,0])&(DistanceDF['目标类型']==order_assign.iloc[y,1]),'距离'].values[0]\n",
    "    for z in range(len(order_pickup)):\n",
    "        try:\n",
    "            order_pickup.iloc[z,5] = DistanceDF.loc[(DistanceDF['源订单号']==last_action['订单号']) & (DistanceDF['源类型']==last_action['动作类型'])&(DistanceDF['目标订单号']==order_pickup.iloc[z,0])&(DistanceDF['目标类型']==order_pickup.iloc[z,1]),'距离'].values[0]\n",
    "        except:\n",
    "            print(z,len(order_pickup))\n",
    "    \n",
    "    # 时间\n",
    "    order_assign['理论时间'] = ((order_assign.loc[:,'距离'] / shuxing.iloc[0,1])+last_action['时间']).apply(int)\n",
    "    order_pickup['理论时间'] = ((order_pickup.loc[:,'距离'] / shuxing.iloc[0,1])+last_action['时间']).apply(int)\n",
    "\n",
    "    # 补充订单可取时间，承诺送达时间,天气\n",
    "    order_assign['订单分配时间'] =0\n",
    "    order_assign['订单可取时间'] = 0\n",
    "    order_assign['订单承诺送达时间'] = 0\n",
    "    order_assign['天气'] = '1'   \n",
    "    order_pickup['订单分配时间'] =0\n",
    "    order_pickup['订单可取时间'] = 0\n",
    "    order_pickup['订单承诺送达时间'] = 0\n",
    "    order_pickup['天气'] = '1'\n",
    "    \n",
    "    for y in range(len(order_assign)):\n",
    "        oneOrder = OrderDF.loc[OrderDF['订单号'] == order_assign.iloc[y,0],['通知时间','可以取单时间','承诺送达时间','天气']]\n",
    "        \n",
    "        order_assign.iloc[y,7] = oneOrder.iloc[0,0]\n",
    "        order_assign.iloc[y,8] = oneOrder.iloc[0,1]\n",
    "        order_assign.iloc[y,9] = oneOrder.iloc[0,2]\n",
    "        order_assign.iloc[y,10] = oneOrder.iloc[0,3]\n",
    "    \n",
    "    for z in range(len(order_pickup)):\n",
    "    \n",
    "        oneOrder = OrderDF.loc[OrderDF['订单号'] == order_pickup.iloc[z,0],['通知时间','可以取单时间','承诺送达时间','天气']]\n",
    "       \n",
    "        order_pickup.iloc[z,7] = oneOrder.iloc[0,0]\n",
    "        order_pickup.iloc[z,8] = oneOrder.iloc[0,1]\n",
    "        order_pickup.iloc[z,9] = oneOrder.iloc[0,2]\n",
    "        order_pickup.iloc[z,10] = oneOrder.iloc[0,3]\n",
    "    \n",
    "    order_assign.rename(columns={'订单号':'取单号'},inplace=True)\n",
    "    order_pickup.rename(columns={'订单号':'送单号'},inplace=True)\n",
    "    \n",
    "    return order_assign,order_pickup,last_action\n",
    "    \n",
    "    \n",
    "    \n",
    "    "
   ]
  },
  {
   "cell_type": "code",
   "execution_count": 23,
   "metadata": {
    "collapsed": true
   },
   "outputs": [],
   "source": [
    "# 整理\n",
    "def GetAllOptionOrder(orderSort,actionBig,order,distance,courier):\n",
    "    pickupBig = pd.DataFrame(columns=['订单号','动作','动作时间','通知时间','可以取单时间','承诺送达时间','骑手上个动作时间','骑手经度','骑手纬度','骑手距离','骑手等级','骑手速度','最大负荷量','取单号','动作类型','时间','经度','纬度','距离','理论时间','订单分配时间','订单可取时间','订单承诺送达时间','天气'])\n",
    "    deliveryBig = pd.DataFrame(columns=['订单号','动作','动作时间','通知时间','可以取单时间','承诺送达时间','骑手上个动作时间','骑手经度','骑手纬度','骑手距离','骑手等级','骑手速度','最大负荷量','送单号','动作类型','时间','经度','纬度','距离','理论时间','订单分配时间','订单可取时间','订单承诺送达时间','天气'])\n",
    "    #print(actionBig)\n",
    "    for i in range(len(orderSort)):\n",
    "        orderID = orderSort.loc[i,'订单号']\n",
    "        waveID = orderSort.loc[i,'波次']\n",
    "        peopleID = orderSort.loc[i,'骑手ID']\n",
    "        orderAction = orderSort.loc[i,'动作']\n",
    "        action_wave = actionBig.loc[(actionBig['骑手ID']==peopleID) & (actionBig['波次']==waveID),['订单号','动作类型','时间','经度','纬度']] #这个波次的所有动作 \n",
    "        order_wave =order.loc[(order['骑手ID']==peopleID) & (order['波次'] ==waveID),:]\n",
    "        shuxing = courier.loc[courier['骑手ID']==peopleID,['等级','速度','最大负荷量']] # 骑手属性\n",
    "        distance_wave = distance.loc[(distance['骑手ID']==peopleID)&(distance['波次'] == waveID)]\n",
    "        pickup,delivery,last_action= OneOrderActionGetAllOption(orderID,orderAction,action_wave,order_wave,distance_wave,shuxing)\n",
    "        \n",
    "        pickup['订单号'] = orderID\n",
    "        pickup['动作'] = orderAction\n",
    "        pickup['动作时间'] =action_wave.loc[(action_wave['订单号']==orderID)&(action_wave['动作类型']==orderAction),'时间'].values[0]\n",
    "        orderTime = order_wave.loc[order_wave['订单号']==orderID,['通知时间','可以取单时间','承诺送达时间']]\n",
    "        pickup['通知时间'] =orderTime.iloc[0,0]\n",
    "        pickup['可以取单时间'] =orderTime.iloc[0,1]\n",
    "        pickup['承诺送达时间'] = orderTime.iloc[0,2]\n",
    "        pickup['骑手上个动作时间'] = last_action['时间']\n",
    "        pickup['骑手经度'] = last_action['经度']\n",
    "        pickup['骑手纬度'] = last_action['纬度']\n",
    "        pickup['骑手距离'] = distance_wave.loc[(distance_wave['源订单号']==last_action['订单号']) & (distance_wave['源类型']==last_action['动作类型'])&(distance_wave['目标订单号']==orderID)&(distance_wave['目标类型']==orderAction),'距离'].values[0]\n",
    "        pickup['骑手等级'] =shuxing.iloc[0,0]\n",
    "        pickup['骑手速度'] =shuxing.iloc[0,1]\n",
    "        pickup['最大负荷量'] = shuxing.iloc[0,2]\n",
    "        \n",
    "        delivery['订单号'] = orderID\n",
    "        delivery['动作'] = orderAction\n",
    "        delivery['动作时间'] =action_wave.loc[(action_wave['订单号']==orderID)&(action_wave['动作类型']==orderAction),'时间'].values[0]\n",
    "        delivery['通知时间'] =orderTime.iloc[0,0]\n",
    "        delivery['可以取单时间'] =orderTime.iloc[0,1]\n",
    "        delivery['承诺送达时间'] = orderTime.iloc[0,2]\n",
    "        delivery['骑手上个动作时间'] = last_action['时间']\n",
    "        delivery['骑手经度'] = last_action['经度']\n",
    "        delivery['骑手纬度'] = last_action['纬度']\n",
    "        delivery['骑手距离'] = distance_wave.loc[(distance_wave['源订单号']==last_action['订单号']) & (distance_wave['源类型']==last_action['动作类型'])&(distance_wave['目标订单号']==orderID)&(distance_wave['目标类型']==orderAction),'距离'].values[0]\n",
    "        delivery['骑手等级'] =shuxing.iloc[0,0]\n",
    "        delivery['骑手速度'] =shuxing.iloc[0,1]\n",
    "        delivery['最大负荷量'] = shuxing.iloc[0,2]\n",
    "    \n",
    "    \n",
    "        \n",
    "        pickupBig = pd.concat([pickupBig,pickup])\n",
    "      \n",
    "        deliveryBig =pd.concat([deliveryBig,delivery])\n",
    "      \n",
    "        \n",
    "    pickupBig=pickupBig.reindex(columns=['订单号','动作','动作时间','通知时间','可以取单时间','承诺送达时间','骑手上个动作时间','骑手经度','骑手纬度','骑手距离','骑手等级','骑手速度','最大负荷量','取单号','动作类型','时间','经度','纬度','距离','理论时间','订单分配时间','订单可取时间','订单承诺送达时间','天气'])\n",
    "    deliveryBig=deliveryBig.reindex(columns=['订单号','动作','动作时间','通知时间','可以取单时间','承诺送达时间','骑手上个动作时间','骑手经度','骑手纬度','骑手距离','骑手等级','骑手速度','最大负荷量','送单号','动作类型','时间','经度','纬度','距离','理论时间','订单分配时间','订单可取时间','订单承诺送达时间','天气'])    \n",
    "    return pickupBig,deliveryBig\n",
    "        \n",
    "        \n",
    "    "
   ]
  },
  {
   "cell_type": "code",
   "execution_count": 24,
   "metadata": {
    "collapsed": true
   },
   "outputs": [],
   "source": [
    "\n",
    "def GetPickDelivery(n):\n",
    " \n",
    "    # 以一天的数据为单位进行处理\n",
    "    action = train_action_list[n]\n",
    "    courier = train_courier_list[n]\n",
    "    distance = train_distance_list[n]\n",
    "    order = train_order_list[n]\n",
    "    #print(action)\n",
    "    # 修改列名\n",
    "    action.rename(columns=action_columns_name_dict,inplace=True)\n",
    "    courier.rename(columns=courier_columns_name_dict,inplace=True)\n",
    "    distance.rename(columns=distance_columns_name_dict,inplace =True)\n",
    "    order.rename(columns=order_columns_name_dict,inplace =True)\n",
    "\n",
    "    # 组合订单3个动作的表\n",
    "    order_part = order[['骑手ID','波次','订单号','通知时间']]\n",
    "    order_part['动作类型'] ='ASSIGN'\n",
    "    order_part.rename(columns={'通知时间':'时间'},inplace = True)\n",
    "    action_part = action[['骑手ID','波次','订单号','动作类型','时间']]\n",
    "    order_part = order_part[['骑手ID','波次','订单号','动作类型','时间']]\n",
    "    action_all = pd.concat([action_part,order_part]) # 纵向合并成一个表\n",
    "    action_all_sort = action_all.sort_values(by =['骑手ID','波次','时间']) # 排序，将骑手的一个波次合并在一起\n",
    "    #print(action_all)\n",
    "    # 补充动作表对应的地点经纬度\n",
    "    distance_part = distance[['骑手ID','波次','源订单号','源类型','源经度','源纬度']]\n",
    "    distance_part.rename(columns={'源订单号':'订单号','源类型':'动作类型','源经度':'经度','源纬度':'纬度'},inplace = True)\n",
    "    distance_part1 = distance_part.drop_duplicates() # 删除重复行\n",
    "    #print(distance_part1)\n",
    "    action_big = pd.merge(left=action_all_sort,right=distance_part1,left_on=['骑手ID','波次','订单号','动作类型'],right_on=['骑手ID','波次','订单号','动作类型'],how ='inner')\n",
    "    #print(action_big)\n",
    "    # 生成最后总表初始表\n",
    "    data1 = order[['订单号','骑手ID','波次','天气']]\n",
    "    data2 = order[['订单号','骑手ID','波次','天气']]\n",
    "    columnsName =['动作','动作时间','理论完成时间','可取单时间','承诺送达时间','距离','取单号','商家经度','商家纬度','商家距离','实际取单时间','理论取单时间','取单可取时间','取单承诺送达时间','送单号','客户经度','客户纬度','客户距离','实际送单时间','理论送单时间','送单可取时间','送单承诺送达时间','骑手上个动作时间','骑手经度','骑手纬度','骑手等级','骑手速度','最大负荷量','当前已取单数']\n",
    "    for st in columnsName:\n",
    "        if st =='动作':\n",
    "            data1.loc[:,st] ='PICKUP'\n",
    "            data2.loc[:,st] = 'DELIVERY'\n",
    "        else:\n",
    "            data1.loc[:,st] =0\n",
    "            data2.loc[:,st] =0\n",
    "    data = pd.concat([data1,data2])\n",
    "    dataSort =data.sort_values(by=['骑手ID','波次','订单号']) # 让一个骑手的波次聚在一块\n",
    "    # 修改索引，使其从0递增\n",
    "    indexlist = list(range(len(dataSort)))\n",
    "    dataSort.index = indexlist\n",
    "    orderSort = dataSort.loc[:,['订单号','动作','骑手ID','波次']]\n",
    "    pickupOrder,deliveryOrder = GetAllOptionOrder(orderSort,action_big,order,distance,courier) # 获取每个订单动作对应的后续可选取单和送单总表\n",
    "    return pickupOrder,deliveryOrder"
   ]
  },
  {
   "cell_type": "code",
   "execution_count": 30,
   "metadata": {},
   "outputs": [],
   "source": [
    "# 遍历进行数据处理\n",
    "picklist=list() # 存放取单\n",
    "deliverylist =list() # 存放送单\n",
    "for n in range(len(train_action_list)):\n",
    "    pick,delivery = GetPickDelivery(n)\n",
    "    picklist.append(pick)\n",
    "    deliverylist.append(delivery)"
   ]
  },
  {
   "cell_type": "code",
   "execution_count": 26,
   "metadata": {
    "collapsed": true
   },
   "outputs": [],
   "source": [
    "pickdf = pd.concat(picklist)\n",
    "deliverydf = pd.concat(deliverylist)"
   ]
  },
  {
   "cell_type": "code",
   "execution_count": 29,
   "metadata": {
    "collapsed": true
   },
   "outputs": [],
   "source": [
    "# 保存数据\n",
    "pickdf.to_csv('../user_data/tmp_data/pickAll.txt',index=False,encoding='utf_8')\n",
    "deliverydf.to_csv('../user_data/tmp_data/deliveryAll.txt',index =False,encoding='utf_8')"
   ]
  },
  {
   "cell_type": "code",
   "execution_count": null,
   "metadata": {
    "collapsed": true
   },
   "outputs": [],
   "source": []
  }
 ],
 "metadata": {
  "kernelspec": {
   "display_name": "Python 3",
   "language": "python",
   "name": "python3"
  },
  "language_info": {
   "codemirror_mode": {
    "name": "ipython",
    "version": 3
   },
   "file_extension": ".py",
   "mimetype": "text/x-python",
   "name": "python",
   "nbconvert_exporter": "python",
   "pygments_lexer": "ipython3",
   "version": "3.6.7"
  }
 },
 "nbformat": 4,
 "nbformat_minor": 2
}
