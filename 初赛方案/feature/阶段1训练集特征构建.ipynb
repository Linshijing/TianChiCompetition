{
 "cells": [
  {
   "cell_type": "code",
   "execution_count": 18,
   "metadata": {
    "collapsed": true
   },
   "outputs": [],
   "source": [
    "import numpy as np\n",
    "import pandas as pd\n",
    "import os\n",
    "import copy\n",
    "import warnings\n",
    "\n",
    "warnings.filterwarnings('ignore')"
   ]
  },
  {
   "cell_type": "code",
   "execution_count": 19,
   "metadata": {
    "collapsed": true
   },
   "outputs": [],
   "source": [
    "trainPathPick = '../user_data/tmp_data/pickAll.txt'\n",
    "trainPathDelivery = '../user_data/tmp_data/deliveryAll.txt' "
   ]
  },
  {
   "cell_type": "code",
   "execution_count": 20,
   "metadata": {
    "collapsed": true
   },
   "outputs": [],
   "source": [
    "pick = pd.read_csv(trainPathPick)\n",
    "delivery = pd.read_csv(trainPathDelivery)"
   ]
  },
  {
   "cell_type": "code",
   "execution_count": 21,
   "metadata": {
    "collapsed": true
   },
   "outputs": [],
   "source": [
    "# 获取每个订单后续的取单和送单的候选集合\n",
    "def getOrderDivide(pickData,actionName):\n",
    "                  # 0        1     2          3            4            5      6            7             8       9            10          11            12      13              14           15       16        17            18             19        20                21           22      23        24             25         26     27               28            29        30       31                                                \n",
    "    columnsName2=['订单号','动作','通知时间','可取单时间','承诺送达时间','距离','理论完成时间','实际完成时间','订单1','通知时间1','可取单时间1','承诺送达时间1','距离1','理论完成时间1','实际完成时间1','订单2','通知时间2','可取单时间2','承诺送达时间2','距离2','理论完成时间2','实际完成时间2','骑手等级','骑手速度','天气']\n",
    "    columnsName3=['订单号','动作','通知时间','可取单时间','承诺送达时间','距离','理论完成时间','实际完成时间','订单1','通知时间1','可取单时间1','承诺送达时间1','距离1','理论完成时间1','实际完成时间1','订单2','通知时间2','可取单时间2','承诺送达时间2','距离2','理论完成时间2','实际完成时间2','订单3','通知时间3','可取单时间3','承诺送达时间3','距离3','理论完成时间3','实际完成时间3','骑手等级','骑手速度','天气']\n",
    "    \n",
    "    pickAll = pickData.loc[pickData['动作'] == actionName,:]\n",
    "    pick2 = pd.DataFrame(data = np.zeros((len(pickAll),len(columnsName2)),dtype = np.int64),columns = columnsName2) # 存放两个可选单\n",
    "    pick3 = pd.DataFrame(data = np.zeros((len(pickAll),len(columnsName3)),dtype = np.int64),columns= columnsName3 ) # 存放三个可选单\n",
    "    \n",
    "    \n",
    "    pickOrder = pickAll['订单号']\n",
    "    pickOrder.drop_duplicates(inplace =True)\n",
    "    #print(pickOrder)\n",
    "    pickAll.reset_index(inplace =True,drop = True)\n",
    "    index1 =0\n",
    "    index2 =0\n",
    "    index3 =0\n",
    "    for i in range(len(pickOrder)):\n",
    "        order = pickOrder.iloc[i]\n",
    "        pickOne = pickAll.loc[pickAll['订单号']== order,:]\n",
    "        #print(pickOne)\n",
    "        if len(pickOne) ==2:\n",
    "            \n",
    "            pick2.loc[index1,'订单号'] = order\n",
    "            pick2.loc[index1,'动作'] = actionName\n",
    "            pick2.loc[index1,'通知时间'] = pickOne.iloc[0,3]\n",
    "            pick2.loc[index1,'可取单时间'] = pickOne.iloc[0,4]\n",
    "            pick2.loc[index1,'承诺送达时间'] = pickOne.iloc[0,5]\n",
    "            pick2.loc[index1,'距离'] = pickOne.iloc[0,9]\n",
    "            pick2.loc[index1,'理论完成时间'] = int(pickOne.iloc[0,9] /pickOne.iloc[0,11] + pickOne.iloc[0,6])\n",
    "            pick2.loc[index1,'实际完成时间'] = pickOne.iloc[0,2]\n",
    "            pick2.loc[index1,'骑手等级'] = pickOne.iloc[0,10]\n",
    "            pick2.loc[index1,'骑手速度'] = pickOne.iloc[0,11]\n",
    "            pick2.loc[index1,'天气'] = pickOne.iloc[0,23]\n",
    "            for j in range(2):\n",
    "                columnIndex = 8+j*7\n",
    "                pick2.iloc[index1,columnIndex] = pickOne.iloc[j,13]\n",
    "                pick2.iloc[index1,columnIndex+1] = pickOne.iloc[j,20]\n",
    "                pick2.iloc[index1,columnIndex+2] = pickOne.iloc[j,21]\n",
    "                pick2.iloc[index1,columnIndex+3] = pickOne.iloc[j,22]\n",
    "                pick2.iloc[index1,columnIndex+4] = pickOne.iloc[j,18]\n",
    "                pick2.iloc[index1,columnIndex+5] = pickOne.iloc[j,19]\n",
    "                pick2.iloc[index1,columnIndex+6] = pickOne.iloc[j,15]\n",
    "            index1 = index1+1\n",
    "        elif len(pickOne) == 3:\n",
    "            pick3.loc[index2,'订单号'] = order\n",
    "            pick3.loc[index2,'动作'] = actionName\n",
    "            pick3.loc[index2,'通知时间'] = pickOne.iloc[0,3]\n",
    "            pick3.loc[index2,'可取单时间'] = pickOne.iloc[0,4]\n",
    "            pick3.loc[index2,'承诺送达时间'] = pickOne.iloc[0,5]\n",
    "            pick3.loc[index2,'距离'] = pickOne.iloc[0,9]\n",
    "            pick3.loc[index2,'理论完成时间'] = int(pickOne.iloc[0,9] /pickOne.iloc[0,11] + pickOne.iloc[0,6])\n",
    "            pick3.loc[index2,'实际完成时间'] = pickOne.iloc[0,2]\n",
    "            pick3.loc[index2,'骑手等级'] = pickOne.iloc[0,10]\n",
    "            pick3.loc[index2,'骑手速度'] = pickOne.iloc[0,11]\n",
    "            pick3.loc[index2,'天气'] = pickOne.iloc[0,23]\n",
    "            for j in range(3):\n",
    "                columnIndex = 8+j*7\n",
    "                pick3.iloc[index2,columnIndex] = pickOne.iloc[j,13]\n",
    "                pick3.iloc[index2,columnIndex+1] = pickOne.iloc[j,20]\n",
    "                pick3.iloc[index2,columnIndex+2] = pickOne.iloc[j,21]\n",
    "                pick3.iloc[index2,columnIndex+3] = pickOne.iloc[j,22]\n",
    "                pick3.iloc[index2,columnIndex+4] = pickOne.iloc[j,18]\n",
    "                pick3.iloc[index2,columnIndex+5] = pickOne.iloc[j,19]\n",
    "                pick3.iloc[index2,columnIndex+6] = pickOne.iloc[j,15]\n",
    "            index2 = index2+1\n",
    "      \n",
    "        \n",
    "    return pick2,pick3   "
   ]
  },
  {
   "cell_type": "code",
   "execution_count": 22,
   "metadata": {
    "collapsed": true
   },
   "outputs": [],
   "source": [
    "# 计算差值，构建模型的输入特征\n",
    "def Caculate(data2,data3):\n",
    "    \n",
    "    data2.drop_duplicates(inplace=True,keep=False)\n",
    "    data3.drop_duplicates(inplace=True,keep=False)\n",
    "    data2['1-2理论时间差'] =data2['理论完成时间1'] - data2['理论完成时间2']\n",
    "    data2['1-2距离差'] = data2['距离1'] - data2['距离2']\n",
    "    data2['1-2通知时间差'] = data2['通知时间1'] - data2['通知时间2']\n",
    "    data2['1-2可取单时间差'] = data2['可取单时间1']-data2['可取单时间2']\n",
    "    data2['1-2承诺时间差'] = data2['承诺送达时间1'] - data2['承诺送达时间2']\n",
    "\n",
    "    data3['1-2理论时间差'] =data3['理论完成时间1'] - data3['理论完成时间2']\n",
    "    data3['1-2距离差'] = data3['距离1'] - data3['距离2']\n",
    "    data3['1-2通知时间差'] = data3['通知时间1'] - data3['通知时间2']\n",
    "    data3['1-2可取单时间差'] = data3['可取单时间1']-data3['可取单时间2']\n",
    "    data3['1-2承诺时间差'] = data3['承诺送达时间1'] - data3['承诺送达时间2']\n",
    "\n",
    "    data3['1-3理论时间差'] =data3['理论完成时间1'] - data3['理论完成时间3']\n",
    "    data3['1-3距离差'] = data3['距离1'] - data3['距离3']\n",
    "    data3['1-3通知时间差'] = data3['通知时间1'] - data3['通知时间3']\n",
    "    data3['1-3可取单时间差'] = data3['可取单时间1']-data3['可取单时间3']\n",
    "    data3['1-3承诺时间差'] = data3['承诺送达时间1'] - data3['承诺送达时间3']\n",
    "\n",
    "    data3['2-3理论时间差'] =data3['理论完成时间2'] - data3['理论完成时间3']\n",
    "    data3['2-3距离差'] = data3['距离2'] - data3['距离3']\n",
    "    data3['2-3通知时间差'] =data3['通知时间2'] - data3['通知时间3']\n",
    "    data3['2-3可取单时间差'] = data3['可取单时间2']-data3['可取单时间3']\n",
    "    data3['2-3承诺时间差'] = data3['承诺送达时间2'] - data3['承诺送达时间3']\n",
    "\n",
    "    data2['标签'] = (data2['订单号'] - data2['订单1']).apply(lambda x : 0 if x==0 else 1)\n",
    "    data3['标签'] = (data3['订单号'] - data3['订单1']).apply(lambda x : 0 if x==0 else 1)\n",
    "    data3_1 = data3.loc[data3['标签'] == 0,:]\n",
    "    data3_2 = data3.loc[data3['标签'] == 1,:]\n",
    "    data3_2['标签'] = (data3_2['订单号'] - data3_2['订单2']).apply(lambda x: 1 if x==0 else 2)\n",
    "    data3 = pd.concat([data3_1,data3_2])\n",
    "    \n",
    "    return data2,data3\n",
    "    \n"
   ]
  },
  {
   "cell_type": "code",
   "execution_count": 23,
   "metadata": {
    "collapsed": true
   },
   "outputs": [],
   "source": [
    "# 同时有2个候选取单和3个候选取单\n",
    "picktwo,pickthree = getOrderDivide(pick,'PICKUP')\n",
    "# 同时有2个候选送单和3个候选送单\n",
    "deliverytwo,deliverythree = getOrderDivide(delivery,'DELIVERY')\n",
    "\n",
    "picktwo,pickthree = Caculate(picktwo,pickthree)\n",
    "deliverytwo,deliverythree = Caculate(deliverytwo,deliverythree)\n",
    "\n",
    "\n",
    "picktwo.to_csv('../user_data/tmp_data/pickTwo.txt',index=False,encoding='utf_8')\n",
    "pickthree.to_csv('../user_data/tmp_data/pickThree.txt',index=False,encoding='utf_8')\n",
    "deliverytwo.to_csv('../user_data/tmp_data/deliveryTwo.txt',index=False,encoding='utf_8')\n",
    "deliverythree.to_csv('../user_data/tmp_data/deliveryThree.txt',index=False,encoding='utf_8')\n",
    "\n"
   ]
  },
  {
   "cell_type": "code",
   "execution_count": null,
   "metadata": {
    "collapsed": true
   },
   "outputs": [],
   "source": []
  }
 ],
 "metadata": {
  "kernelspec": {
   "display_name": "Python 3",
   "language": "python",
   "name": "python3"
  },
  "language_info": {
   "codemirror_mode": {
    "name": "ipython",
    "version": 3
   },
   "file_extension": ".py",
   "mimetype": "text/x-python",
   "name": "python",
   "nbconvert_exporter": "python",
   "pygments_lexer": "ipython3",
   "version": "3.6.7"
  }
 },
 "nbformat": 4,
 "nbformat_minor": 2
}
