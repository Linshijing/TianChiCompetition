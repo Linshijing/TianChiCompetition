{
 "cells": [
  {
   "cell_type": "code",
   "execution_count": 39,
   "metadata": {
    "collapsed": true
   },
   "outputs": [],
   "source": [
    "import numpy as np\n",
    "import pandas as pd\n",
    "import os\n",
    "import copy\n",
    "import warnings\n",
    "warnings.filterwarnings('ignore')\n",
    "\n",
    "from sklearn.ensemble import RandomForestClassifier\n",
    "from sklearn.externals import joblib\n",
    "pd.set_option('display.max_columns', None)"
   ]
  },
  {
   "cell_type": "code",
   "execution_count": 50,
   "metadata": {
    "collapsed": true
   },
   "outputs": [],
   "source": [
    "trainPath = '../'\n",
    "dataString = [str(i) for i in range(20200227,20200229)]\n",
    "pickList =list()\n",
    "deliveryList = list()"
   ]
  },
  {
   "cell_type": "code",
   "execution_count": 51,
   "metadata": {
    "collapsed": true
   },
   "outputs": [],
   "source": [
    "for data in dataString:\n",
    "    pick = pd.read_csv(trainPath+'pick_'+data+'.txt')\n",
    "    delivery = pd.read_csv(trainPath+'delivery_'+data+'.txt')\n",
    "    pickList.append(pick)\n",
    "    deliveryList.append(delivery)"
   ]
  },
  {
   "cell_type": "code",
   "execution_count": 52,
   "metadata": {},
   "outputs": [
    {
     "data": {
      "text/plain": [
       "2"
      ]
     },
     "execution_count": 52,
     "metadata": {},
     "output_type": "execute_result"
    }
   ],
   "source": [
    "len(pickList)"
   ]
  },
  {
   "cell_type": "code",
   "execution_count": 42,
   "metadata": {
    "collapsed": true
   },
   "outputs": [],
   "source": [
    "lenth = len(pick)\n",
    "lenth2 = len(delivery)"
   ]
  },
  {
   "cell_type": "code",
   "execution_count": 43,
   "metadata": {
    "collapsed": true
   },
   "outputs": [],
   "source": [
    "index1 = list(range(lenth))\n",
    "index2 = list(range(lenth2))"
   ]
  },
  {
   "cell_type": "code",
   "execution_count": 44,
   "metadata": {},
   "outputs": [
    {
     "name": "stdout",
     "output_type": "stream",
     "text": [
      "<class 'pandas.core.frame.DataFrame'>\n",
      "RangeIndex: 27491 entries, 0 to 27490\n",
      "Data columns (total 24 columns):\n",
      "订单号         27491 non-null int64\n",
      "动作          27491 non-null object\n",
      "动作时间        27491 non-null int64\n",
      "通知时间        27491 non-null int64\n",
      "可以取单时间      27491 non-null int64\n",
      "承诺送达时间      27491 non-null int64\n",
      "骑手上个动作时间    27491 non-null int64\n",
      "骑手经度        27491 non-null float64\n",
      "骑手纬度        27491 non-null float64\n",
      "骑手距离        27491 non-null float64\n",
      "骑手等级        27491 non-null int64\n",
      "骑手速度        27491 non-null float64\n",
      "最大负荷量       27491 non-null int64\n",
      "送单号         27491 non-null int64\n",
      "动作类型        27491 non-null object\n",
      "时间          27491 non-null int64\n",
      "经度          27491 non-null float64\n",
      "纬度          27491 non-null float64\n",
      "距离          27491 non-null float64\n",
      "理论时间        27491 non-null int64\n",
      "订单分配时间      27491 non-null int64\n",
      "订单可取时间      27491 non-null int64\n",
      "订单承诺送达时间    27491 non-null int64\n",
      "天气          27491 non-null object\n",
      "dtypes: float64(7), int64(14), object(3)\n",
      "memory usage: 5.0+ MB\n"
     ]
    }
   ],
   "source": [
    "delivery.info()"
   ]
  },
  {
   "cell_type": "code",
   "execution_count": 53,
   "metadata": {
    "collapsed": true
   },
   "outputs": [],
   "source": [
    "def getConPose(pickupOrder,deliveryOrder):\n",
    "    \n",
    "    pick = pickupOrder[['订单号','动作','动作时间','通知时间','可以取单时间','承诺送达时间','骑手上个动作时间','骑手经度','骑手等级','骑手纬度','骑手距离','骑手速度','最大负荷量']]\n",
    "    delivery = deliveryOrder[['订单号','动作','动作时间','通知时间','可以取单时间','承诺送达时间','骑手上个动作时间','骑手经度','骑手等级','骑手纬度','骑手距离','骑手速度','最大负荷量']]\n",
    "     \n",
    "    dataSort = pd.concat([pick,delivery])\n",
    "    dataSort.drop_duplicates(inplace =True)\n",
    "    dataSort['理论完成时间'] = (dataSort['骑手距离']/dataSort['骑手速度'] +dataSort['骑手上个动作时间']).apply(int)\n",
    "    \n",
    "    columnsName =['取单号','商家经度','商家纬度','商家距离','实际取单时间','理论取单时间','取单分配时间','取单可取时间','取单承诺送达时间','取单天气','送单号','客户经度','客户纬度','客户距离','实际送单时间','理论送单时间','送单分配时间','送单可取时间','送单承诺送达时间','送单天气','当前已取单数']\n",
    "    for st in columnsName:\n",
    "        dataSort.loc[:,st] =0\n",
    "\n",
    "    indexlist = list(range(len(dataSort)))\n",
    "    dataSort.index = indexlist\n",
    "    path = 'D:/TianChi/train2/trainData/model/'\n",
    "    modelPick2lin =joblib.load(path+'RFpick2.pkl') # 双订单不同店取单模型\n",
    "    modelPickSame2lin = joblib.load(path+'RFpickSame2.pkl') # 双订单同店取单模型\n",
    "    modelPick2Feng =joblib.load(path+'RFpick2feng.pkl') # 双订单不同店取单模型(冯)\n",
    "    \n",
    "    modelPick3lin = joblib.load(path+'RFpick3.pkl') # 三订单不同店取单模型\n",
    "    modelPick3PartSamelin = joblib.load(path+'RFpickpartSame3.pkl') # 三订单部分同店取单模型\n",
    "    modelPick3Samelin = joblib.load(path+'RFpickSame3.pkl') # 三订单都同店取单模型\n",
    "    \n",
    "    modelDe2lin = joblib.load(path+'RFDE2.pkl') # 双订单不同店送单模型\n",
    "    modelDeSame2lin = joblib.load(path+'RFDESame2.pkl') # 双订单同店送单模型\n",
    "    modelDe2Feng = joblib.load(path+'RFDE2feng.pkl') # 双订单不同店送单模型(冯)\n",
    "    \n",
    "    modelDe3lin = joblib.load(path+'RFDE3.pkl')  # 三订单不同店送单\n",
    "    modelDePartSame3lin = joblib.load(path+'RFDEpartSame3.pkl') # 三订单部分同店送单\n",
    "    # 计算得到表\n",
    "    for i in range(len(dataSort)):\n",
    "        orderID = dataSort.loc[i,'订单号']\n",
    "        \n",
    "        #peopleID = dataSort.loc[i,'骑手ID']\n",
    "        orderAction = dataSort.loc[i,'动作']\n",
    " \n",
    "        order_assign = pickupOrder.loc[(pickupOrder['订单号'] ==orderID) &(pickupOrder['动作'] == orderAction),:]  #存放已发布，未提取\n",
    "        order_pickup = deliveryOrder.loc[(deliveryOrder['订单号'] ==orderID) &(deliveryOrder['动作'] == orderAction),:]\n",
    "       \n",
    "        #按距离排序\n",
    "        #order_assign.sort_values(by=['距离','订单可取时间'],inplace =True)\n",
    "        #order_pickup.sort_values(by=['距离','订单承诺送达时间'],inplace =True)\n",
    "        \n",
    "        # 取单\n",
    "        index=0\n",
    "        if len(order_assign) ==1:\n",
    "            index =0\n",
    "        elif len(order_assign)==2:\n",
    "            dis = order_assign.iloc[0,18] - order_assign.iloc[1,18]\n",
    "            time1 = order_assign.iloc[0,19] - order_assign.iloc[1,19] # 理论时间差\n",
    "            time2 = order_assign.iloc[0,20] - order_assign.iloc[1,20] # 通知时间差\n",
    "            time3 = order_assign.iloc[0,21] - order_assign.iloc[1,21] # 可取时间差\n",
    "            time4 = order_assign.iloc[0,22] - order_assign.iloc[1,22] # 承诺时间差\n",
    "            if abs(dis)<0.001:\n",
    "                temp = [[time2,time3,time4]]\n",
    "                input1 = np.array(temp)\n",
    "                index = int(modelPickSame2lin.predict(input1)[0])\n",
    "            elif (dis>1500) |(dis<-1500):\n",
    "                order_assign.sort_values(by=['距离','订单承诺送达时间'],inplace =True)\n",
    "                index=0\n",
    "            else:\n",
    "                temp = [[time1,time2,time3,time4]]\n",
    "                input1 = np.array(temp)\n",
    "                index = int(modelPick2lin.predict(input1)[0])\n",
    "        elif len(order_assign) ==3:\n",
    "            dis1 = order_assign.iloc[0,18] - order_assign.iloc[1,18]\n",
    "            dis2 = order_assign.iloc[0,18] - order_assign.iloc[2,18]\n",
    "            \n",
    "            time4 = order_assign.iloc[0,20] - order_assign.iloc[1,20] # 1-2通知时间差\n",
    "            time5 = order_assign.iloc[0,20] - order_assign.iloc[2,20] # 1-3通知时间差\n",
    "            time6 = order_assign.iloc[1,20] - order_assign.iloc[2,20] # 2-3通知时间差\n",
    "\n",
    "            time7 = order_assign.iloc[0,21] - order_assign.iloc[1,21] # 1-2可取时间差\n",
    "            time8 = order_assign.iloc[0,21] - order_assign.iloc[2,21] # 1-3可取时间差\n",
    "            time9 = order_assign.iloc[1,21] - order_assign.iloc[2,21] # 2-3可取时间差\n",
    "\n",
    "            time10 = order_assign.iloc[0,22] - order_assign.iloc[1,22] # 1-2承诺时间差\n",
    "            time11 = order_assign.iloc[0,22] - order_assign.iloc[2,22] # 1-3承诺时间差\n",
    "            time12 = order_assign.iloc[1,22] - order_assign.iloc[2,22] # 2-3承诺时间差\n",
    "\n",
    "            if (abs(dis1)<0.001) &(abs(dis2)<0.001): # 三订单同一家店 \n",
    "                temp = [[time4,time5,time6,time7,time8,time9,time10,time11,time12]]\n",
    "                input1 = np.array(temp)\n",
    "                index = int(modelPick3Samelin.predict(input1)[0])\n",
    "            elif (abs(dis1) >0.1) &(abs(dis2)>0.1): # 三订单不同店\n",
    "                time1 = order_assign.iloc[0,19] - order_assign.iloc[1,19] # 1-2理论时间差\n",
    "                time2 = order_assign.iloc[0,19] - order_assign.iloc[2,19] # 1-3理论时间差\n",
    "                time3 = order_assign.iloc[1,19] - order_assign.iloc[2,19] # 2-3理论时间差\n",
    "                temp = [[time1,time2,time3,time4,time5,time6,time7,time8,time9,time10,time11,time12]]\n",
    "                input1 = np.array(temp)\n",
    "                index = int(modelPick3lin.predict(input1)[0])\n",
    "            else:\n",
    "                time1 = order_assign.iloc[0,19] - order_assign.iloc[1,19] # 1-2理论时间差\n",
    "                time2 = order_assign.iloc[0,19] - order_assign.iloc[2,19] # 1-3理论时间差\n",
    "                time3 = order_assign.iloc[1,19] - order_assign.iloc[2,19] # 2-3理论时间差\n",
    "                temp = [[time1,time2,time3,time4,time5,time6,time7,time8,time9,time10,time11,time12]]\n",
    "                input1 = np.array(temp)\n",
    "                index = int(modelPick3PartSamelin.predict(input1)[0])\n",
    "        else:              # 四个单以上\n",
    "            order_assign.sort_values(by=['距离','订单可取时间'],inplace =True)\n",
    "            index = 0\n",
    "            \n",
    "        # 送单\n",
    "        index1 =0\n",
    "        if len(order_pickup) ==1:\n",
    "            index1 =0\n",
    "        elif len(order_pickup) ==2:\n",
    "            dis = order_pickup.iloc[0,18] - order_pickup.iloc[1,18]\n",
    "            time1 = order_pickup.iloc[0,19] - order_pickup.iloc[1,19] # 理论时间差\n",
    "            time2 = order_pickup.iloc[0,20] - order_pickup.iloc[1,20] # 通知时间差\n",
    "            time3 = order_pickup.iloc[0,21] - order_pickup.iloc[1,21] # 可取时间差\n",
    "            time4 = order_pickup.iloc[0,22] - order_pickup.iloc[1,22] # 承诺时间差\n",
    "            if abs(dis)<0.001: # 同单\n",
    "                temp = [[time2,time4]]\n",
    "                input1 = np.array(temp)\n",
    "                index1 = int(modelDeSame2lin.predict(input1)[0])\n",
    "            elif (dis>1000) |(dis<-1000):\n",
    "                order_pickup.sort_values(by=['距离','订单承诺送达时间'],inplace =True)\n",
    "                index1=0\n",
    "            else:\n",
    "                temp = [[time1,time2,time3,time4]]\n",
    "                input1 = np.array(temp)\n",
    "                index1 = int(modelDe2lin.predict(input1)[0])\n",
    "        elif len(order_pickup) ==3:\n",
    "            dis1 = order_pickup.iloc[0,18] - order_pickup.iloc[1,18]\n",
    "            dis2 = order_pickup.iloc[0,18] - order_pickup.iloc[2,18]\n",
    "            \n",
    "            time1 = order_pickup.iloc[0,19] - order_pickup.iloc[1,19] # 1-2理论时间差\n",
    "            time2 = order_pickup.iloc[0,19] - order_pickup.iloc[2,19] # 1-3理论时间差\n",
    "            time3 = order_pickup.iloc[1,19] - order_pickup.iloc[2,19] # 2-3理论时间差\n",
    "            \n",
    "            time10 = order_pickup.iloc[0,22] - order_pickup.iloc[1,22] # 1-2承诺时间差\n",
    "            time11 = order_pickup.iloc[0,22] - order_pickup.iloc[2,22] # 1-3承诺时间差\n",
    "            time12 = order_pickup.iloc[1,22] - order_pickup.iloc[2,22] # 2-3承诺时间差\n",
    "\n",
    "            if (abs(dis1)<0.001) &(abs(dis2)<0.001): # 三订单同一家店\n",
    "                order_pickup.sort_values(by=['距离','订单承诺送达时间'],inplace =True)\n",
    "                index1 =0\n",
    "            elif (abs(dis1) >0.1) &(abs(dis2)>0.1): # 三订单不同店\n",
    "                temp = [[time1,time2,time3,time10,time11,time12]]\n",
    "                input1 = np.array(temp)\n",
    "                index1 = int(modelDe3lin.predict(input1)[0])\n",
    "            else:\n",
    "                time4 = order_pickup.iloc[0,20] - order_pickup.iloc[1,20] # 1-2通知时间差\n",
    "                time5 = order_pickup.iloc[0,20] - order_pickup.iloc[2,20] # 1-3通知时间差\n",
    "                time6 = order_pickup.iloc[1,20] - order_pickup.iloc[2,20] # 2-3通知时间差\n",
    "\n",
    "                time7 = order_pickup.iloc[0,21] - order_pickup.iloc[1,21] # 1-2可取时间差\n",
    "                time8 = order_pickup.iloc[0,21] - order_pickup.iloc[2,21] # 1-3可取时间差\n",
    "                time9 = order_pickup.iloc[1,21] - order_pickup.iloc[2,21] # 2-3可取时间差\n",
    "                \n",
    "                temp = [[time1,time2,time3,time4,time5,time6,time7,time8,time9,time10,time11,time12]]\n",
    "                input1 = np.array(temp)\n",
    "                index1 = int(modelDePartSame3lin.predict(input1)[0])\n",
    "        else:\n",
    "            order_pickup.sort_values(by=['距离','订单承诺送达时间'],inplace =True)\n",
    "            index1 =0\n",
    "        \n",
    "        \n",
    "        \n",
    "        if len(order_assign)==0:\n",
    "            pass\n",
    "        else:\n",
    "\n",
    "            dataSort.loc[i,'取单号'] = order_assign.iloc[index,13]\n",
    "            dataSort.loc[i,'商家经度'] = order_assign.iloc[index,16]\n",
    "            dataSort.loc[i,'商家纬度'] = order_assign.iloc[index,17]\n",
    "            dataSort.loc[i,'商家距离'] = order_assign.iloc[index,18]\n",
    "            dataSort.loc[i,'实际取单时间'] = order_assign.iloc[index,15]\n",
    "            dataSort.loc[i,'理论取单时间'] = order_assign.iloc[index,19]          \n",
    "            dataSort.loc[i,'取单分配时间'] = order_assign.iloc[index,20]\n",
    "            dataSort.loc[i,'取单可取时间'] = order_assign.iloc[index,21]\n",
    "            dataSort.loc[i,'取单承诺送达时间'] = order_assign.iloc[index,22]\n",
    "            dataSort.loc[i,'取单天气'] = order_assign.iloc[index,23]\n",
    "                                      \n",
    "\n",
    "        if len(order_pickup) ==0:\n",
    "            pass\n",
    "        else:\n",
    "            dataSort.loc[i,'送单号'] = order_pickup.iloc[index1,13]\n",
    "            dataSort.loc[i,'客户经度'] = order_pickup.iloc[index1,16]\n",
    "            dataSort.loc[i,'客户纬度'] = order_pickup.iloc[index1,17]\n",
    "            dataSort.loc[i,'客户距离'] = order_pickup.iloc[index1,18]\n",
    "            dataSort.loc[i,'实际送单时间'] = order_pickup.iloc[index1,15]\n",
    "            dataSort.loc[i,'理论送单时间'] = order_pickup.iloc[index1,19]\n",
    "            dataSort.loc[i,'送单分配时间'] = order_pickup.iloc[index1,20]\n",
    "            dataSort.loc[i,'送单可取时间'] = order_pickup.iloc[index1,21]\n",
    "            dataSort.loc[i,'送单承诺送达时间'] = order_pickup.iloc[index1,22]\n",
    "            dataSort.loc[i,'送单天气'] = order_pickup.iloc[index1,23]\n",
    "            \n",
    "        dataSort.loc[i,'当前已取单数'] = len(order_pickup)\n",
    "        \n",
    "     # 调整列名\n",
    "    data_end=dataSort.reindex(columns=['订单号','动作','动作时间','理论完成时间','通知时间','可以取单时间','承诺送达时间','取单号','商家经度','商家纬度','商家距离','实际取单时间','理论取单时间','取单分配时间','取单可取时间','取单承诺送达时间','取单天气','送单号','客户经度','客户纬度','客户距离','实际送单时间','理论送单时间','送单分配时间','送单可取时间','送单承诺送达时间','送单天气','骑手上个动作时间','当前已取单数','骑手经度','骑手纬度','骑手距离','骑手等级','骑手速度','最大负荷量'])\n",
    "    \n",
    "    # 计算一致性\n",
    "    data_pick = data_end.loc[data_end['动作']=='PICKUP',:]\n",
    "    data_delivery = data_end.loc[data_end['动作'] == 'DELIVERY',:]\n",
    "    data_pick['一致性'] = (data_pick['订单号']-data_pick['取单号']).apply(lambda x :1 if x==0 else 0)\n",
    "    data_delivery['一致性'] = (data_delivery['订单号']-data_delivery['送单号']).apply(lambda x: 1 if x==0 else 0)\n",
    "    \n",
    "    numberPick = len(data_pick)\n",
    "    numberDelivery = len(data_delivery)\n",
    "    numberPickRight = len(data_pick.loc[data_pick['一致性']==1,'订单号'])\n",
    "    numberDeliveryRight = len(data_delivery.loc[data_delivery['一致性']==1,'订单号'])\n",
    "    \n",
    "    pickR = numberPickRight / numberPick\n",
    "    deliveryR = numberDeliveryRight / numberDelivery\n",
    "    data_save = pd.concat([data_pick,data_delivery])\n",
    "    \n",
    "    allR = (numberDeliveryRight+numberPickRight) /(len(data_save))\n",
    "    print(allR)\n",
    "    return  data_save\n",
    "    #return data_save\n",
    "    "
   ]
  },
  {
   "cell_type": "code",
   "execution_count": 29,
   "metadata": {
    "collapsed": true
   },
   "outputs": [],
   "source": []
  },
  {
   "cell_type": "code",
   "execution_count": 54,
   "metadata": {
    "collapsed": true
   },
   "outputs": [],
   "source": [
    "results = list()"
   ]
  },
  {
   "cell_type": "code",
   "execution_count": 55,
   "metadata": {},
   "outputs": [
    {
     "name": "stdout",
     "output_type": "stream",
     "text": [
      "0.8732823806813562\n",
      "0.8688550337678655\n"
     ]
    }
   ],
   "source": [
    "for i in range(len(pickList)):\n",
    "    df=getConPose(pickList[i],deliveryList[i])\n",
    "    results.append(df)\n",
    "    #df.to_csv(trainPath+'decision_'+dataString[i]+'.txt',index=False)"
   ]
  },
  {
   "cell_type": "code",
   "execution_count": 57,
   "metadata": {},
   "outputs": [
    {
     "name": "stdout",
     "output_type": "stream",
     "text": [
      "<class 'pandas.core.frame.DataFrame'>\n",
      "Int64Index: 25468 entries, 0 to 25467\n",
      "Data columns (total 36 columns):\n",
      "订单号         25468 non-null int64\n",
      "动作          25468 non-null object\n",
      "动作时间        25468 non-null int64\n",
      "理论完成时间      25468 non-null int64\n",
      "通知时间        25468 non-null int64\n",
      "可以取单时间      25468 non-null int64\n",
      "承诺送达时间      25468 non-null int64\n",
      "取单号         25468 non-null int64\n",
      "商家经度        25468 non-null float64\n",
      "商家纬度        25468 non-null float64\n",
      "商家距离        25468 non-null float64\n",
      "实际取单时间      25468 non-null int64\n",
      "理论取单时间      25468 non-null int64\n",
      "取单分配时间      25468 non-null int64\n",
      "取单可取时间      25468 non-null int64\n",
      "取单承诺送达时间    25468 non-null int64\n",
      "取单天气        25468 non-null object\n",
      "送单号         25468 non-null int64\n",
      "客户经度        25468 non-null float64\n",
      "客户纬度        25468 non-null float64\n",
      "客户距离        25468 non-null float64\n",
      "实际送单时间      25468 non-null int64\n",
      "理论送单时间      25468 non-null int64\n",
      "送单分配时间      25468 non-null int64\n",
      "送单可取时间      25468 non-null int64\n",
      "送单承诺送达时间    25468 non-null int64\n",
      "送单天气        25468 non-null object\n",
      "骑手上个动作时间    25468 non-null int64\n",
      "当前已取单数      25468 non-null int64\n",
      "骑手经度        25468 non-null float64\n",
      "骑手纬度        25468 non-null float64\n",
      "骑手距离        25468 non-null float64\n",
      "骑手等级        25468 non-null int64\n",
      "骑手速度        25468 non-null float64\n",
      "最大负荷量       25468 non-null int64\n",
      "一致性         25468 non-null int64\n",
      "dtypes: float64(10), int64(23), object(3)\n",
      "memory usage: 7.2+ MB\n"
     ]
    }
   ],
   "source": [
    "df.info()"
   ]
  },
  {
   "cell_type": "code",
   "execution_count": 93,
   "metadata": {
    "collapsed": true
   },
   "outputs": [],
   "source": [
    "# 根据承诺时间进行决策\n",
    "def DesicisonTime(trainData):\n",
    "    dis = 480\n",
    "    trainData['距离差'] = trainData['商家距离'] - trainData['客户距离']\n",
    "    trainData['承诺时间差'] = trainData['取单承诺送达时间'] - trainData['送单承诺送达时间']\n",
    "    \n",
    "    trainData_sigle = trainData.loc[(trainData['取单号'] ==0) | (trainData['送单号'] ==0),:]  # 只有一边有订单\n",
    "    trainData_double = trainData.loc[(trainData['取单号'] !=0) & (trainData['送单号'] !=0),:] # 两边都有订单\n",
    "    \n",
    "    trainData_sigle['决策'] = trainData_sigle['取单号'].apply(lambda x :0 if x!=0 else 1)\n",
    "\n",
    "    # 距离在 dis范围内，用承诺时间大小决定\n",
    "    trainData_double_part1 = trainData_double.loc[(trainData_double['距离差'] <= 0)&(trainData_double['距离差'] >=-dis),:] \n",
    "    trainData_double_part2 = trainData_double.loc[(trainData_double['距离差'] < -dis)|(trainData_double['距离差'] > 0),:]\n",
    "    \n",
    "    trainData_double_part1['决策'] = trainData_double_part1['承诺时间差'].apply(lambda x :0 if x< 0 else 1)\n",
    "    trainData_double_part2['决策'] = trainData_double_part2['距离差'].apply(lambda x: 0 if x < -dis else 1)\n",
    "    \n",
    "    dataSave = pd.concat([trainData_sigle,trainData_double_part1,trainData_double_part2])\n",
    "    \n",
    "    dataPick = dataSave.loc[dataSave['决策'] ==0,:]\n",
    "    dataDelivery = dataSave.loc[dataSave['决策'] ==1,:]\n",
    "    dataPick['标签'] = (dataPick['订单号'] -dataPick['取单号']).apply(lambda x:1 if x==0 else 0)\n",
    "    dataDelivery['标签'] = (dataDelivery['订单号'] -dataDelivery['送单号']).apply(lambda x:1 if x==0 else 0)\n",
    "    \n",
    "    dataSave = pd.concat([dataPick,dataDelivery])\n",
    "#     dataPick = dataSave.loc[dataSave['决策'] ==0,['骑手ID','波次','取单号','起始经度','起始纬度','动作','理论取单时间']]\n",
    "#     dataDelivery = dataSave.loc[dataSave['决策'] ==1,['骑手ID','波次','送单号','起始经度','起始纬度','动作','理论送单时间']]\n",
    "    \n",
    "#     dataPick['动作'] = 'PICKUP'\n",
    "#     dataDelivery['动作'] = 'DELIVERY'\n",
    "    \n",
    "#     dataPick.rename(columns={'骑手ID':'courier_id','波次':'wave_index','取单号':'tracking_id','起始经度':'courier_wave_start_lng','起始纬度':'courier_wave_start_lat','动作':'action_type','理论取单时间':'expect_time'},inplace=True)\n",
    "#     dataDelivery.rename(columns={'骑手ID':'courier_id','波次':'wave_index','送单号':'tracking_id','起始经度':'courier_wave_start_lng','起始纬度':'courier_wave_start_lat','动作':'action_type','理论送单时间':'expect_time'},inplace=True)\n",
    "    \n",
    "#     data = pd.concat([dataPick,dataDelivery])\n",
    "#     data['expect_time'] = data['expect_time']+180\n",
    "#     data.loc[:,'courier_wave_start_lng'] = data.loc[:,'courier_wave_start_lng'].apply(XiaoShu)\n",
    "#     data.loc[:,'courier_wave_start_lat'] = data.loc[:,'courier_wave_start_lat'].apply(XiaoShu)\n",
    "    \n",
    "    return dataSave"
   ]
  },
  {
   "cell_type": "code",
   "execution_count": 70,
   "metadata": {
    "collapsed": true
   },
   "outputs": [],
   "source": [
    "# 根据承诺时间进行决策\n",
    "def DesicisonModel(trainData):\n",
    "    dis = 1200\n",
    "    trainData['距离差'] = trainData['商家距离'] - trainData['客户距离']\n",
    "    trainData['理论时间差'] = trainData['理论取单时间'] -trainData['理论送单时间']\n",
    "    trainData['承诺时间差'] = trainData['取单承诺送达时间'] - trainData['送单承诺送达时间']\n",
    "    trainData['可取理论时间差'] = trainData['取单可取时间'] - trainData['理论取单时间']\n",
    "    trainData['可取单数'] = trainData['最大负荷量'] - trainData['当前已取单数'] \n",
    "    basePath = 'D:/TianChi/train2/DesicionData/model/'\n",
    "    modelRF = joblib.load(basePath+'RFdecision.pkl')\n",
    "    \n",
    "    \n",
    "    trainData_sigle = trainData.loc[(trainData['取单号'] ==0) | (trainData['送单号'] ==0),:]  # 只有一边有订单\n",
    "    trainData_double = trainData.loc[(trainData['取单号'] !=0) & (trainData['送单号'] !=0),:] # 两边都有订单\n",
    "    \n",
    "    trainData_sigle['决策'] = trainData_sigle['取单号'].apply(lambda x :0 if x!=0 else 1)\n",
    "    \n",
    "    # 距离在 dis范围内，用承诺时间大小决定\n",
    "    trainData_double_part1 = trainData_double.loc[(trainData_double['距离差'] <=dis)&(trainData_double['距离差'] >=-dis),:] \n",
    "    trainData_double_part2 = trainData_double.loc[(trainData_double['距离差'] <-dis)|(trainData_double['距离差'] > dis),:]\n",
    "    \n",
    "    trainData_double_part2['决策'] = trainData_double_part2['距离差'].apply(lambda x: 0 if x < -dis else 1)\n",
    "    \n",
    "    trainData_double_part1.reset_index(drop =True,inplace =True)\n",
    "    \n",
    "    inputs =trainData_double_part1[['理论时间差','承诺时间差','可取理论时间差','可取单数']].values\n",
    "    outputs = modelRF.predict(inputs)\n",
    "    \n",
    "    for i in range(len(trainData_double_part1)):\n",
    "        trainData_double_part1.loc[i,'决策'] = int(outputs[i])\n",
    "    \n",
    "    \n",
    "    dataSave = pd.concat([trainData_sigle,trainData_double_part1,trainData_double_part2])\n",
    "    dataPick = dataSave.loc[dataSave['决策'] ==0,:]\n",
    "    dataDelivery = dataSave.loc[dataSave['决策'] ==1,:]\n",
    "    dataPick['标签'] = (dataPick['订单号'] -dataPick['取单号']).apply(lambda x:1 if x==0 else 0)\n",
    "    dataDelivery['标签'] = (dataDelivery['订单号'] -dataDelivery['送单号']).apply(lambda x:1 if x==0 else 0)\n",
    "    \n",
    "    dataSave = pd.concat([dataPick,dataDelivery])\n",
    "    \n",
    "    \n",
    "#     dataPick = dataSave.loc[dataSave['决策'] ==0,['骑手ID','波次','取单号','起始经度','起始纬度','动作','理论取单时间']]\n",
    "#     dataDelivery = dataSave.loc[dataSave['决策'] ==1,['骑手ID','波次','送单号','起始经度','起始纬度','动作','理论送单时间']]\n",
    "    \n",
    "#     dataPick['动作'] = 'PICKUP'\n",
    "#     dataDelivery['动作'] = 'DELIVERY'\n",
    "    \n",
    "#     dataPick.rename(columns={'骑手ID':'courier_id','波次':'wave_index','取单号':'tracking_id','起始经度':'courier_wave_start_lng','起始纬度':'courier_wave_start_lat','动作':'action_type','理论取单时间':'expect_time'},inplace=True)\n",
    "#     dataDelivery.rename(columns={'骑手ID':'courier_id','波次':'wave_index','送单号':'tracking_id','起始经度':'courier_wave_start_lng','起始纬度':'courier_wave_start_lat','动作':'action_type','理论送单时间':'expect_time'},inplace=True)\n",
    "    \n",
    "#     data = pd.concat([dataPick,dataDelivery])\n",
    "#     data['expect_time'] = data['expect_time']+180\n",
    "#     data.loc[:,'courier_wave_start_lng'] = data.loc[:,'courier_wave_start_lng'].apply(XiaoShu)\n",
    "#     data.loc[:,'courier_wave_start_lat'] = data.loc[:,'courier_wave_start_lat'].apply(XiaoShu)\n",
    "    \n",
    "    return dataSave"
   ]
  },
  {
   "cell_type": "code",
   "execution_count": 94,
   "metadata": {
    "collapsed": true
   },
   "outputs": [],
   "source": [
    "trainDataSave1 = copy.deepcopy(results)"
   ]
  },
  {
   "cell_type": "code",
   "execution_count": 95,
   "metadata": {
    "collapsed": true
   },
   "outputs": [],
   "source": [
    "da = DesicisonTime(trainDataSave1[1])"
   ]
  },
  {
   "cell_type": "code",
   "execution_count": 96,
   "metadata": {},
   "outputs": [
    {
     "data": {
      "text/plain": [
       "1    21009\n",
       "0     4459\n",
       "Name: 标签, dtype: int64"
      ]
     },
     "execution_count": 96,
     "metadata": {},
     "output_type": "execute_result"
    }
   ],
   "source": [
    "da['标签'].value_counts()"
   ]
  },
  {
   "cell_type": "code",
   "execution_count": 97,
   "metadata": {},
   "outputs": [
    {
     "data": {
      "text/plain": [
       "0.8249175435841055"
      ]
     },
     "execution_count": 97,
     "metadata": {},
     "output_type": "execute_result"
    }
   ],
   "source": [
    "21009 /len(trainDataSave1[1])"
   ]
  },
  {
   "cell_type": "code",
   "execution_count": 86,
   "metadata": {
    "collapsed": true
   },
   "outputs": [],
   "source": [
    "da1 = DesicisonModel(trainDataSave1[1])"
   ]
  },
  {
   "cell_type": "code",
   "execution_count": 87,
   "metadata": {},
   "outputs": [
    {
     "data": {
      "text/plain": [
       "1    21194\n",
       "0     4274\n",
       "Name: 标签, dtype: int64"
      ]
     },
     "execution_count": 87,
     "metadata": {},
     "output_type": "execute_result"
    }
   ],
   "source": [
    "da1['标签'].value_counts()"
   ]
  },
  {
   "cell_type": "code",
   "execution_count": 88,
   "metadata": {},
   "outputs": [
    {
     "data": {
      "text/plain": [
       "0.8321815611748076"
      ]
     },
     "execution_count": 88,
     "metadata": {},
     "output_type": "execute_result"
    }
   ],
   "source": [
    "21194/len(da1)"
   ]
  },
  {
   "cell_type": "code",
   "execution_count": 78,
   "metadata": {
    "collapsed": true
   },
   "outputs": [],
   "source": [
    "def dataRight(data):\n",
    "    \n",
    "    dataRight = data.loc[(data['一致性']==1)&(data['取单号'] !=0)&(data['送单号']!=0),:]\n",
    "    a = len(dataRight.loc[dataRight['标签']==1,:])\n",
    "    b = len(dataRight)\n",
    "    r=a/b\n",
    "    return r\n"
   ]
  },
  {
   "cell_type": "code",
   "execution_count": 89,
   "metadata": {},
   "outputs": [
    {
     "data": {
      "text/plain": [
       "0.8617191671115857"
      ]
     },
     "execution_count": 89,
     "metadata": {},
     "output_type": "execute_result"
    }
   ],
   "source": [
    "dataRight(da)"
   ]
  },
  {
   "cell_type": "code",
   "execution_count": 90,
   "metadata": {},
   "outputs": [
    {
     "data": {
      "text/plain": [
       "0.9002669514148425"
      ]
     },
     "execution_count": 90,
     "metadata": {},
     "output_type": "execute_result"
    }
   ],
   "source": [
    "dataRight(da1)"
   ]
  },
  {
   "cell_type": "code",
   "execution_count": 76,
   "metadata": {},
   "outputs": [
    {
     "name": "stderr",
     "output_type": "stream",
     "text": [
      "C:\\MySofware\\Anaconda3\\envs\\python36\\lib\\site-packages\\ipykernel_launcher.py:28: SettingWithCopyWarning: \n",
      "A value is trying to be set on a copy of a slice from a DataFrame\n",
      "\n",
      "See the caveats in the documentation: http://pandas.pydata.org/pandas-docs/stable/indexing.html#indexing-view-versus-copy\n",
      "C:\\MySofware\\Anaconda3\\envs\\python36\\lib\\site-packages\\ipykernel_launcher.py:29: SettingWithCopyWarning: \n",
      "A value is trying to be set on a copy of a slice from a DataFrame\n",
      "\n",
      "See the caveats in the documentation: http://pandas.pydata.org/pandas-docs/stable/indexing.html#indexing-view-versus-copy\n"
     ]
    },
    {
     "ename": "ValueError",
     "evalue": "The truth value of a DataFrame is ambiguous. Use a.empty, a.bool(), a.item(), a.any() or a.all().",
     "output_type": "error",
     "traceback": [
      "\u001b[1;31m---------------------------------------------------------------------------\u001b[0m",
      "\u001b[1;31mValueError\u001b[0m                                Traceback (most recent call last)",
      "\u001b[1;32m<ipython-input-76-26005724d201>\u001b[0m in \u001b[0;36m<module>\u001b[1;34m()\u001b[0m\n\u001b[1;32m----> 1\u001b[1;33m \u001b[0ma\u001b[0m\u001b[1;33m,\u001b[0m\u001b[0mb\u001b[0m\u001b[1;33m,\u001b[0m\u001b[0mc\u001b[0m \u001b[1;33m=\u001b[0m\u001b[0mgetConPose\u001b[0m\u001b[1;33m(\u001b[0m\u001b[1;36m10\u001b[0m\u001b[1;33m,\u001b[0m\u001b[1;36m100\u001b[0m\u001b[1;33m,\u001b[0m\u001b[0mpick\u001b[0m\u001b[1;33m,\u001b[0m\u001b[0mdelivery\u001b[0m\u001b[1;33m)\u001b[0m\u001b[1;33m\u001b[0m\u001b[1;33m\u001b[0m\u001b[0m\n\u001b[0m",
      "\u001b[1;32m<ipython-input-71-0bb1e9a67782>\u001b[0m in \u001b[0;36mgetConPose\u001b[1;34m(x, y, pickupOrder, deliveryOrder)\u001b[0m\n\u001b[0;32m     31\u001b[0m         \u001b[1;32mif\u001b[0m \u001b[0mlen\u001b[0m\u001b[1;33m(\u001b[0m\u001b[0morder_assign\u001b[0m\u001b[1;33m)\u001b[0m \u001b[1;33m>\u001b[0m\u001b[1;36m1\u001b[0m\u001b[1;33m:\u001b[0m\u001b[1;33m\u001b[0m\u001b[1;33m\u001b[0m\u001b[0m\n\u001b[0;32m     32\u001b[0m             \u001b[0morder_assign1\u001b[0m \u001b[1;33m=\u001b[0m \u001b[0morder_assign\u001b[0m\u001b[1;33m.\u001b[0m\u001b[0mloc\u001b[0m\u001b[1;33m[\u001b[0m\u001b[0morder_assign\u001b[0m\u001b[1;33m[\u001b[0m\u001b[1;34m'距离'\u001b[0m\u001b[1;33m]\u001b[0m\u001b[1;33m<=\u001b[0m \u001b[0mx\u001b[0m\u001b[1;33m,\u001b[0m\u001b[1;33m:\u001b[0m\u001b[1;33m]\u001b[0m\u001b[1;33m\u001b[0m\u001b[1;33m\u001b[0m\u001b[0m\n\u001b[1;32m---> 33\u001b[1;33m             \u001b[1;32mif\u001b[0m \u001b[1;33m(\u001b[0m\u001b[0morder_assign1\u001b[0m\u001b[1;33m)\u001b[0m \u001b[1;33m>\u001b[0m\u001b[1;36m0\u001b[0m\u001b[1;33m:\u001b[0m\u001b[1;33m\u001b[0m\u001b[1;33m\u001b[0m\u001b[0m\n\u001b[0m\u001b[0;32m     34\u001b[0m                 \u001b[0morder_assign\u001b[0m \u001b[1;33m=\u001b[0m\u001b[0morder_assign1\u001b[0m\u001b[1;33m.\u001b[0m\u001b[0msort_values\u001b[0m\u001b[1;33m(\u001b[0m\u001b[0mby\u001b[0m\u001b[1;33m=\u001b[0m\u001b[1;33m[\u001b[0m\u001b[1;34m'订单可取时间'\u001b[0m\u001b[1;33m]\u001b[0m\u001b[1;33m,\u001b[0m\u001b[0minplace\u001b[0m \u001b[1;33m=\u001b[0m \u001b[1;32mFalse\u001b[0m\u001b[1;33m)\u001b[0m\u001b[1;33m\u001b[0m\u001b[1;33m\u001b[0m\u001b[0m\n\u001b[0;32m     35\u001b[0m \u001b[1;33m\u001b[0m\u001b[0m\n",
      "\u001b[1;32mC:\\MySofware\\Anaconda3\\envs\\python36\\lib\\site-packages\\pandas\\core\\generic.py\u001b[0m in \u001b[0;36m__nonzero__\u001b[1;34m(self)\u001b[0m\n\u001b[0;32m    953\u001b[0m         raise ValueError(\"The truth value of a {0} is ambiguous. \"\n\u001b[0;32m    954\u001b[0m                          \u001b[1;34m\"Use a.empty, a.bool(), a.item(), a.any() or a.all().\"\u001b[0m\u001b[1;33m\u001b[0m\u001b[1;33m\u001b[0m\u001b[0m\n\u001b[1;32m--> 955\u001b[1;33m                          .format(self.__class__.__name__))\n\u001b[0m\u001b[0;32m    956\u001b[0m \u001b[1;33m\u001b[0m\u001b[0m\n\u001b[0;32m    957\u001b[0m     \u001b[0m__bool__\u001b[0m \u001b[1;33m=\u001b[0m \u001b[0m__nonzero__\u001b[0m\u001b[1;33m\u001b[0m\u001b[1;33m\u001b[0m\u001b[0m\n",
      "\u001b[1;31mValueError\u001b[0m: The truth value of a DataFrame is ambiguous. Use a.empty, a.bool(), a.item(), a.any() or a.all()."
     ]
    }
   ],
   "source": [
    "a,b,c =getConPose(10,100,pick,delivery)"
   ]
  },
  {
   "cell_type": "code",
   "execution_count": 68,
   "metadata": {},
   "outputs": [
    {
     "data": {
      "text/plain": [
       "0.9174518351849248"
      ]
     },
     "execution_count": 68,
     "metadata": {},
     "output_type": "execute_result"
    }
   ],
   "source": [
    "b"
   ]
  },
  {
   "cell_type": "code",
   "execution_count": 15,
   "metadata": {
    "collapsed": true
   },
   "outputs": [],
   "source": [
    "data_pick = a.loc[a['动作']=='PICKUP',:]\n",
    "data_delivery = a.loc[a['动作'] == 'DELIVERY',:]"
   ]
  },
  {
   "cell_type": "code",
   "execution_count": 22,
   "metadata": {
    "collapsed": true
   },
   "outputs": [],
   "source": [
    "numberPick = len(data_pick)\n",
    "numberDelivery = len(data_delivery)\n",
    "numberPickRight = len(data_pick.loc[data_pick['一致性']==0,'订单号'])\n",
    "numberDeliveryRight = len(data_delivery.loc[data_delivery['一致性']==0,'订单号'])\n",
    "    \n"
   ]
  },
  {
   "cell_type": "code",
   "execution_count": 23,
   "metadata": {},
   "outputs": [
    {
     "data": {
      "text/plain": [
       "2191"
      ]
     },
     "execution_count": 23,
     "metadata": {},
     "output_type": "execute_result"
    }
   ],
   "source": [
    "numberDelivery"
   ]
  },
  {
   "cell_type": "code",
   "execution_count": 24,
   "metadata": {},
   "outputs": [
    {
     "data": {
      "text/plain": [
       "2191"
      ]
     },
     "execution_count": 24,
     "metadata": {},
     "output_type": "execute_result"
    }
   ],
   "source": [
    "numberDeliveryRight"
   ]
  },
  {
   "cell_type": "code",
   "execution_count": 25,
   "metadata": {},
   "outputs": [
    {
     "data": {
      "text/plain": [
       "7111"
      ]
     },
     "execution_count": 25,
     "metadata": {},
     "output_type": "execute_result"
    }
   ],
   "source": [
    "numberPickRight"
   ]
  },
  {
   "cell_type": "code",
   "execution_count": 16,
   "metadata": {},
   "outputs": [
    {
     "ename": "NameError",
     "evalue": "name 'numberPickRight' is not defined",
     "output_type": "error",
     "traceback": [
      "\u001b[1;31m---------------------------------------------------------------------------\u001b[0m",
      "\u001b[1;31mNameError\u001b[0m                                 Traceback (most recent call last)",
      "\u001b[1;32m<ipython-input-16-72a6f47e4ab1>\u001b[0m in \u001b[0;36m<module>\u001b[1;34m()\u001b[0m\n\u001b[1;32m----> 1\u001b[1;33m \u001b[0mpickR\u001b[0m \u001b[1;33m=\u001b[0m \u001b[0mnumberPickRight\u001b[0m \u001b[1;33m/\u001b[0m \u001b[0mnumberPick\u001b[0m\u001b[1;33m\u001b[0m\u001b[1;33m\u001b[0m\u001b[0m\n\u001b[0m\u001b[0;32m      2\u001b[0m \u001b[0mdeliveryR\u001b[0m \u001b[1;33m=\u001b[0m \u001b[0mmumberDeliveryRight\u001b[0m \u001b[1;33m/\u001b[0m \u001b[0mnumberDelivery\u001b[0m\u001b[1;33m\u001b[0m\u001b[1;33m\u001b[0m\u001b[0m\n",
      "\u001b[1;31mNameError\u001b[0m: name 'numberPickRight' is not defined"
     ]
    }
   ],
   "source": [
    "pickR = numberPickRight / numberPick\n",
    "deliveryR = mumberDeliveryRight / numberDelivery"
   ]
  },
  {
   "cell_type": "code",
   "execution_count": null,
   "metadata": {
    "collapsed": true
   },
   "outputs": [],
   "source": []
  }
 ],
 "metadata": {
  "kernelspec": {
   "display_name": "Python 3",
   "language": "python",
   "name": "python3"
  },
  "language_info": {
   "codemirror_mode": {
    "name": "ipython",
    "version": 3
   },
   "file_extension": ".py",
   "mimetype": "text/x-python",
   "name": "python",
   "nbconvert_exporter": "python",
   "pygments_lexer": "ipython3",
   "version": "3.6.7"
  }
 },
 "nbformat": 4,
 "nbformat_minor": 2
}
